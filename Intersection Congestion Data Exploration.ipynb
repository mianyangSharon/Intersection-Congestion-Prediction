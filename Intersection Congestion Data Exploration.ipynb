{
 "cells": [
  {
   "cell_type": "code",
   "execution_count": 26,
   "metadata": {},
   "outputs": [],
   "source": [
    "import pandas as pd\n",
    "import numpy as np\n",
    "import matplotlib.pyplot as plt\n",
    "from sklearn.cluster import KMeans\n",
    "# for geographical info\n",
    "# pip install descartes\n",
    "# conda install geopandas\n",
    "import descartes\n",
    "#import geopandas as gpd\n",
    "#from shapely.geometry import Point, Polygon"
   ]
  },
  {
   "cell_type": "code",
   "execution_count": 94,
   "metadata": {},
   "outputs": [],
   "source": [
    "train = pd.read_csv(\"train.csv\")\n",
    "test = pd.read_csv(\"test.csv\")"
   ]
  },
  {
   "cell_type": "markdown",
   "metadata": {},
   "source": [
    "# Part 1: Data Exploration\n",
    "* First let's get a sense of our data\n",
    "\n",
    "    - no missing values\n",
    "    - most of the time records are zeros"
   ]
  },
  {
   "cell_type": "code",
   "execution_count": 8,
   "metadata": {},
   "outputs": [
    {
     "name": "stdout",
     "output_type": "stream",
     "text": [
      "Index(['RowId', 'IntersectionId', 'Latitude', 'Longitude', 'EntryStreetName',\n",
      "       'ExitStreetName', 'EntryHeading', 'ExitHeading', 'Hour', 'Weekend',\n",
      "       'Month', 'Path', 'TotalTimeStopped_p20', 'TotalTimeStopped_p40',\n",
      "       'TotalTimeStopped_p50', 'TotalTimeStopped_p60', 'TotalTimeStopped_p80',\n",
      "       'TimeFromFirstStop_p20', 'TimeFromFirstStop_p40',\n",
      "       'TimeFromFirstStop_p50', 'TimeFromFirstStop_p60',\n",
      "       'TimeFromFirstStop_p80', 'DistanceToFirstStop_p20',\n",
      "       'DistanceToFirstStop_p40', 'DistanceToFirstStop_p50',\n",
      "       'DistanceToFirstStop_p60', 'DistanceToFirstStop_p80', 'City'],\n",
      "      dtype='object')\n"
     ]
    }
   ],
   "source": [
    "print(train.columns)"
   ]
  },
  {
   "cell_type": "code",
   "execution_count": 15,
   "metadata": {},
   "outputs": [
    {
     "data": {
      "text/html": [
       "<div>\n",
       "<style scoped>\n",
       "    .dataframe tbody tr th:only-of-type {\n",
       "        vertical-align: middle;\n",
       "    }\n",
       "\n",
       "    .dataframe tbody tr th {\n",
       "        vertical-align: top;\n",
       "    }\n",
       "\n",
       "    .dataframe thead th {\n",
       "        text-align: right;\n",
       "    }\n",
       "</style>\n",
       "<table border=\"1\" class=\"dataframe\">\n",
       "  <thead>\n",
       "    <tr style=\"text-align: right;\">\n",
       "      <th></th>\n",
       "      <th>RowId</th>\n",
       "      <th>IntersectionId</th>\n",
       "      <th>Latitude</th>\n",
       "      <th>Longitude</th>\n",
       "      <th>Hour</th>\n",
       "      <th>Weekend</th>\n",
       "      <th>Month</th>\n",
       "      <th>TotalTimeStopped_p20</th>\n",
       "      <th>TotalTimeStopped_p40</th>\n",
       "      <th>TotalTimeStopped_p50</th>\n",
       "      <th>...</th>\n",
       "      <th>TimeFromFirstStop_p20</th>\n",
       "      <th>TimeFromFirstStop_p40</th>\n",
       "      <th>TimeFromFirstStop_p50</th>\n",
       "      <th>TimeFromFirstStop_p60</th>\n",
       "      <th>TimeFromFirstStop_p80</th>\n",
       "      <th>DistanceToFirstStop_p20</th>\n",
       "      <th>DistanceToFirstStop_p40</th>\n",
       "      <th>DistanceToFirstStop_p50</th>\n",
       "      <th>DistanceToFirstStop_p60</th>\n",
       "      <th>DistanceToFirstStop_p80</th>\n",
       "    </tr>\n",
       "  </thead>\n",
       "  <tbody>\n",
       "    <tr>\n",
       "      <th>count</th>\n",
       "      <td>8.574090e+05</td>\n",
       "      <td>857409.000000</td>\n",
       "      <td>857409.000000</td>\n",
       "      <td>857409.000000</td>\n",
       "      <td>857409.000000</td>\n",
       "      <td>857409.000000</td>\n",
       "      <td>857409.000000</td>\n",
       "      <td>857409.000000</td>\n",
       "      <td>857409.000000</td>\n",
       "      <td>857409.000000</td>\n",
       "      <td>...</td>\n",
       "      <td>857409.000000</td>\n",
       "      <td>857409.000000</td>\n",
       "      <td>857409.000000</td>\n",
       "      <td>857409.000000</td>\n",
       "      <td>857409.000000</td>\n",
       "      <td>857409.000000</td>\n",
       "      <td>857409.000000</td>\n",
       "      <td>857409.000000</td>\n",
       "      <td>857409.000000</td>\n",
       "      <td>857409.000000</td>\n",
       "    </tr>\n",
       "    <tr>\n",
       "      <th>mean</th>\n",
       "      <td>2.349039e+06</td>\n",
       "      <td>836.330832</td>\n",
       "      <td>39.657555</td>\n",
       "      <td>-77.900396</td>\n",
       "      <td>12.427463</td>\n",
       "      <td>0.277485</td>\n",
       "      <td>9.104448</td>\n",
       "      <td>1.731272</td>\n",
       "      <td>5.356027</td>\n",
       "      <td>7.681874</td>\n",
       "      <td>...</td>\n",
       "      <td>3.126932</td>\n",
       "      <td>9.051338</td>\n",
       "      <td>12.613628</td>\n",
       "      <td>18.801785</td>\n",
       "      <td>34.037097</td>\n",
       "      <td>6.564450</td>\n",
       "      <td>19.872987</td>\n",
       "      <td>28.255852</td>\n",
       "      <td>43.273503</td>\n",
       "      <td>81.922639</td>\n",
       "    </tr>\n",
       "    <tr>\n",
       "      <th>std</th>\n",
       "      <td>2.475128e+05</td>\n",
       "      <td>644.200553</td>\n",
       "      <td>2.920760</td>\n",
       "      <td>5.975814</td>\n",
       "      <td>6.062097</td>\n",
       "      <td>0.447758</td>\n",
       "      <td>1.993233</td>\n",
       "      <td>7.080017</td>\n",
       "      <td>12.861420</td>\n",
       "      <td>15.553418</td>\n",
       "      <td>...</td>\n",
       "      <td>11.631092</td>\n",
       "      <td>20.120829</td>\n",
       "      <td>23.847749</td>\n",
       "      <td>29.399634</td>\n",
       "      <td>40.619387</td>\n",
       "      <td>28.003261</td>\n",
       "      <td>56.564229</td>\n",
       "      <td>71.720090</td>\n",
       "      <td>96.933561</td>\n",
       "      <td>152.682760</td>\n",
       "    </tr>\n",
       "    <tr>\n",
       "      <th>min</th>\n",
       "      <td>1.920335e+06</td>\n",
       "      <td>0.000000</td>\n",
       "      <td>33.649970</td>\n",
       "      <td>-87.836750</td>\n",
       "      <td>0.000000</td>\n",
       "      <td>0.000000</td>\n",
       "      <td>1.000000</td>\n",
       "      <td>0.000000</td>\n",
       "      <td>0.000000</td>\n",
       "      <td>0.000000</td>\n",
       "      <td>...</td>\n",
       "      <td>0.000000</td>\n",
       "      <td>0.000000</td>\n",
       "      <td>0.000000</td>\n",
       "      <td>0.000000</td>\n",
       "      <td>0.000000</td>\n",
       "      <td>0.000000</td>\n",
       "      <td>0.000000</td>\n",
       "      <td>0.000000</td>\n",
       "      <td>0.000000</td>\n",
       "      <td>0.000000</td>\n",
       "    </tr>\n",
       "    <tr>\n",
       "      <th>25%</th>\n",
       "      <td>2.134687e+06</td>\n",
       "      <td>306.000000</td>\n",
       "      <td>39.937600</td>\n",
       "      <td>-84.387710</td>\n",
       "      <td>8.000000</td>\n",
       "      <td>0.000000</td>\n",
       "      <td>7.000000</td>\n",
       "      <td>0.000000</td>\n",
       "      <td>0.000000</td>\n",
       "      <td>0.000000</td>\n",
       "      <td>...</td>\n",
       "      <td>0.000000</td>\n",
       "      <td>0.000000</td>\n",
       "      <td>0.000000</td>\n",
       "      <td>0.000000</td>\n",
       "      <td>0.000000</td>\n",
       "      <td>0.000000</td>\n",
       "      <td>0.000000</td>\n",
       "      <td>0.000000</td>\n",
       "      <td>0.000000</td>\n",
       "      <td>0.000000</td>\n",
       "    </tr>\n",
       "    <tr>\n",
       "      <th>50%</th>\n",
       "      <td>2.349039e+06</td>\n",
       "      <td>685.000000</td>\n",
       "      <td>39.985810</td>\n",
       "      <td>-75.173270</td>\n",
       "      <td>13.000000</td>\n",
       "      <td>0.000000</td>\n",
       "      <td>9.000000</td>\n",
       "      <td>0.000000</td>\n",
       "      <td>0.000000</td>\n",
       "      <td>0.000000</td>\n",
       "      <td>...</td>\n",
       "      <td>0.000000</td>\n",
       "      <td>0.000000</td>\n",
       "      <td>0.000000</td>\n",
       "      <td>0.000000</td>\n",
       "      <td>27.000000</td>\n",
       "      <td>0.000000</td>\n",
       "      <td>0.000000</td>\n",
       "      <td>0.000000</td>\n",
       "      <td>0.000000</td>\n",
       "      <td>60.400000</td>\n",
       "    </tr>\n",
       "    <tr>\n",
       "      <th>75%</th>\n",
       "      <td>2.563391e+06</td>\n",
       "      <td>1254.000000</td>\n",
       "      <td>41.918580</td>\n",
       "      <td>-75.080190</td>\n",
       "      <td>17.000000</td>\n",
       "      <td>1.000000</td>\n",
       "      <td>11.000000</td>\n",
       "      <td>0.000000</td>\n",
       "      <td>0.000000</td>\n",
       "      <td>10.000000</td>\n",
       "      <td>...</td>\n",
       "      <td>0.000000</td>\n",
       "      <td>0.000000</td>\n",
       "      <td>22.000000</td>\n",
       "      <td>31.000000</td>\n",
       "      <td>49.000000</td>\n",
       "      <td>0.000000</td>\n",
       "      <td>0.000000</td>\n",
       "      <td>52.900000</td>\n",
       "      <td>64.100000</td>\n",
       "      <td>85.600000</td>\n",
       "    </tr>\n",
       "    <tr>\n",
       "      <th>max</th>\n",
       "      <td>2.777743e+06</td>\n",
       "      <td>2875.000000</td>\n",
       "      <td>42.381780</td>\n",
       "      <td>-71.023520</td>\n",
       "      <td>23.000000</td>\n",
       "      <td>1.000000</td>\n",
       "      <td>12.000000</td>\n",
       "      <td>273.000000</td>\n",
       "      <td>318.000000</td>\n",
       "      <td>343.000000</td>\n",
       "      <td>...</td>\n",
       "      <td>334.000000</td>\n",
       "      <td>347.000000</td>\n",
       "      <td>355.000000</td>\n",
       "      <td>358.000000</td>\n",
       "      <td>359.000000</td>\n",
       "      <td>1902.700000</td>\n",
       "      <td>3099.500000</td>\n",
       "      <td>3099.500000</td>\n",
       "      <td>3581.600000</td>\n",
       "      <td>4064.300000</td>\n",
       "    </tr>\n",
       "  </tbody>\n",
       "</table>\n",
       "<p>8 rows × 22 columns</p>\n",
       "</div>"
      ],
      "text/plain": [
       "              RowId  IntersectionId       Latitude      Longitude  \\\n",
       "count  8.574090e+05   857409.000000  857409.000000  857409.000000   \n",
       "mean   2.349039e+06      836.330832      39.657555     -77.900396   \n",
       "std    2.475128e+05      644.200553       2.920760       5.975814   \n",
       "min    1.920335e+06        0.000000      33.649970     -87.836750   \n",
       "25%    2.134687e+06      306.000000      39.937600     -84.387710   \n",
       "50%    2.349039e+06      685.000000      39.985810     -75.173270   \n",
       "75%    2.563391e+06     1254.000000      41.918580     -75.080190   \n",
       "max    2.777743e+06     2875.000000      42.381780     -71.023520   \n",
       "\n",
       "                Hour        Weekend          Month  TotalTimeStopped_p20  \\\n",
       "count  857409.000000  857409.000000  857409.000000         857409.000000   \n",
       "mean       12.427463       0.277485       9.104448              1.731272   \n",
       "std         6.062097       0.447758       1.993233              7.080017   \n",
       "min         0.000000       0.000000       1.000000              0.000000   \n",
       "25%         8.000000       0.000000       7.000000              0.000000   \n",
       "50%        13.000000       0.000000       9.000000              0.000000   \n",
       "75%        17.000000       1.000000      11.000000              0.000000   \n",
       "max        23.000000       1.000000      12.000000            273.000000   \n",
       "\n",
       "       TotalTimeStopped_p40  TotalTimeStopped_p50  ...  TimeFromFirstStop_p20  \\\n",
       "count         857409.000000         857409.000000  ...          857409.000000   \n",
       "mean               5.356027              7.681874  ...               3.126932   \n",
       "std               12.861420             15.553418  ...              11.631092   \n",
       "min                0.000000              0.000000  ...               0.000000   \n",
       "25%                0.000000              0.000000  ...               0.000000   \n",
       "50%                0.000000              0.000000  ...               0.000000   \n",
       "75%                0.000000             10.000000  ...               0.000000   \n",
       "max              318.000000            343.000000  ...             334.000000   \n",
       "\n",
       "       TimeFromFirstStop_p40  TimeFromFirstStop_p50  TimeFromFirstStop_p60  \\\n",
       "count          857409.000000          857409.000000          857409.000000   \n",
       "mean                9.051338              12.613628              18.801785   \n",
       "std                20.120829              23.847749              29.399634   \n",
       "min                 0.000000               0.000000               0.000000   \n",
       "25%                 0.000000               0.000000               0.000000   \n",
       "50%                 0.000000               0.000000               0.000000   \n",
       "75%                 0.000000              22.000000              31.000000   \n",
       "max               347.000000             355.000000             358.000000   \n",
       "\n",
       "       TimeFromFirstStop_p80  DistanceToFirstStop_p20  \\\n",
       "count          857409.000000            857409.000000   \n",
       "mean               34.037097                 6.564450   \n",
       "std                40.619387                28.003261   \n",
       "min                 0.000000                 0.000000   \n",
       "25%                 0.000000                 0.000000   \n",
       "50%                27.000000                 0.000000   \n",
       "75%                49.000000                 0.000000   \n",
       "max               359.000000              1902.700000   \n",
       "\n",
       "       DistanceToFirstStop_p40  DistanceToFirstStop_p50  \\\n",
       "count            857409.000000            857409.000000   \n",
       "mean                 19.872987                28.255852   \n",
       "std                  56.564229                71.720090   \n",
       "min                   0.000000                 0.000000   \n",
       "25%                   0.000000                 0.000000   \n",
       "50%                   0.000000                 0.000000   \n",
       "75%                   0.000000                52.900000   \n",
       "max                3099.500000              3099.500000   \n",
       "\n",
       "       DistanceToFirstStop_p60  DistanceToFirstStop_p80  \n",
       "count            857409.000000            857409.000000  \n",
       "mean                 43.273503                81.922639  \n",
       "std                  96.933561               152.682760  \n",
       "min                   0.000000                 0.000000  \n",
       "25%                   0.000000                 0.000000  \n",
       "50%                   0.000000                60.400000  \n",
       "75%                  64.100000                85.600000  \n",
       "max                3581.600000              4064.300000  \n",
       "\n",
       "[8 rows x 22 columns]"
      ]
     },
     "execution_count": 15,
     "metadata": {},
     "output_type": "execute_result"
    }
   ],
   "source": [
    "train.describe()"
   ]
  },
  {
   "cell_type": "markdown",
   "metadata": {},
   "source": [
    "## How many roads are linked to one intersection?\n",
    "* take into consideration that some roads might be one way\n",
    "* so count number of entry and exit separately"
   ]
  },
  {
   "cell_type": "code",
   "execution_count": 117,
   "metadata": {},
   "outputs": [],
   "source": [
    "roads=train.groupby(\"IntersectionId\")[[\"EntryStreetName\", 'ExitStreetName']].aggregate(lambda x: len(x.unique()))\n",
    "roads.columns = [\"count_entry_streets\", \"count_exit_streets\"]\n",
    "train=train.merge(roads, left_on = \"IntersectionId\", right_index = True, how = \"left\")"
   ]
  },
  {
   "cell_type": "code",
   "execution_count": 118,
   "metadata": {},
   "outputs": [
    {
     "data": {
      "text/plain": [
       "Index(['RowId', 'IntersectionId', 'Latitude', 'Longitude', 'EntryStreetName',\n",
       "       'ExitStreetName', 'EntryHeading', 'ExitHeading', 'Hour', 'Weekend',\n",
       "       'Month', 'Path', 'TotalTimeStopped_p20', 'TotalTimeStopped_p40',\n",
       "       'TotalTimeStopped_p50', 'TotalTimeStopped_p60', 'TotalTimeStopped_p80',\n",
       "       'TimeFromFirstStop_p20', 'TimeFromFirstStop_p40',\n",
       "       'TimeFromFirstStop_p50', 'TimeFromFirstStop_p60',\n",
       "       'TimeFromFirstStop_p80', 'DistanceToFirstStop_p20',\n",
       "       'DistanceToFirstStop_p40', 'DistanceToFirstStop_p50',\n",
       "       'DistanceToFirstStop_p60', 'DistanceToFirstStop_p80', 'City',\n",
       "       'count_entry_streets', 'count_exit_streets'],\n",
       "      dtype='object')"
      ]
     },
     "execution_count": 118,
     "metadata": {},
     "output_type": "execute_result"
    }
   ],
   "source": [
    "train.columns"
   ]
  },
  {
   "cell_type": "markdown",
   "metadata": {},
   "source": [
    "## Geo information\n",
    "* although we already have the cities feature, I want to check if there are roads in between the cities etc. or mislabeled city name in this data. \n",
    "\n",
    "* by using K-means method on Longitude and Latitude info, we easily cluster them into four groups, and the graph shows that they are perfectly clustered\n",
    "\n",
    "* that's great, because this means we don't have to deal with issues like roads between cities etc."
   ]
  },
  {
   "cell_type": "code",
   "execution_count": 27,
   "metadata": {},
   "outputs": [],
   "source": [
    "geo_info = train[[\"Longitude\", \"Latitude\"]]\n",
    "kmeans = KMeans(n_clusters=4).fit(geo_info)\n",
    "train[\"geo_cluster\"] = kmeans.labels_"
   ]
  },
  {
   "cell_type": "code",
   "execution_count": 33,
   "metadata": {},
   "outputs": [
    {
     "data": {
      "text/plain": [
       "<matplotlib.collections.PathCollection at 0x21fbf1d09b0>"
      ]
     },
     "execution_count": 33,
     "metadata": {},
     "output_type": "execute_result"
    },
    {
     "data": {
      "image/png": "[encoded data removed]",
      "text/plain": [
       "<Figure size 432x288 with 1 Axes>"
      ]
     },
     "metadata": {
      "needs_background": "light"
     },
     "output_type": "display_data"
    }
   ],
   "source": [
    "# show cluseters -- 4 different cities\n",
    "plt.scatter(train.Longitude, train.Latitude, c= train.geo_cluster)"
   ]
  },
  {
   "cell_type": "markdown",
   "metadata": {},
   "source": [
    "We have much more intersection data for city 2 and 3, less for city 0 and 1"
   ]
  },
  {
   "cell_type": "code",
   "execution_count": 79,
   "metadata": {},
   "outputs": [
    {
     "name": "stdout",
     "output_type": "stream",
     "text": [
      "number of data for each city:  geo_cluster\n",
      "0    182050\n",
      "1    153363\n",
      "2    133674\n",
      "3    388322\n",
      "Name: IntersectionId, dtype: int64\n",
      "number of unique intersection for each city:  geo_cluster\n",
      "0     973\n",
      "1     377\n",
      "2    2129\n",
      "3    1317\n",
      "Name: IntersectionId, dtype: int64\n"
     ]
    }
   ],
   "source": [
    "print(\"number of data for each city: \",train.groupby(\"geo_cluster\")[\"IntersectionId\"].aggregate(\"count\"))\n",
    "print(\"number of unique intersection for each city: \",train.groupby(\"geo_cluster\")[\"IntersectionId\"].aggregate(lambda x: len(x.unique())))"
   ]
  },
  {
   "cell_type": "markdown",
   "metadata": {},
   "source": [
    "## clusters within the city\n",
    "\n",
    "can we try to cluster the intersections within the same city?\n",
    "\n",
    "* looks like this is hard to determine the number of clusters we should use. But we can try different number of clusters later\n",
    "* future use of this feature: this feature might be helpful to determine the potential traffic of other unseen intersections based on their cluster of the streets. (Alternatively, we can use k-nearest-neighbors for predictions of unseen intersections)"
   ]
  },
  {
   "cell_type": "code",
   "execution_count": 88,
   "metadata": {},
   "outputs": [
    {
     "name": "stderr",
     "output_type": "stream",
     "text": [
      "C:\\ProgramData\\Anaconda3\\lib\\site-packages\\ipykernel_launcher.py:4: SettingWithCopyWarning: \n",
      "A value is trying to be set on a copy of a slice from a DataFrame.\n",
      "Try using .loc[row_indexer,col_indexer] = value instead\n",
      "\n",
      "See the caveats in the documentation: http://pandas.pydata.org/pandas-docs/stable/indexing.html#indexing-view-versus-copy\n",
      "  after removing the cwd from sys.path.\n"
     ]
    },
    {
     "data": {
      "image/png": "[encoded data removed]",
      "text/plain": [
       "<Figure size 432x288 with 1 Axes>"
      ]
     },
     "metadata": {
      "needs_background": "light"
     },
     "output_type": "display_data"
    }
   ],
   "source": [
    "city0 = train[train[\"geo_cluster\"] == 0]\n",
    "geo_info_city0 = city0[[\"Longitude\", \"Latitude\"]]\n",
    "kmeans_city0  = KMeans(n_clusters=8).fit(geo_info_city0)\n",
    "city0[\"street_cluster\"] = kmeans_city0.labels_\n",
    "plt.scatter(city0.Longitude, city0.Latitude, c = city0[\"street_cluster\"])\n",
    "#plt.title = \"city 0 streets clusters\""
   ]
  },
  {
   "cell_type": "code",
   "execution_count": 89,
   "metadata": {},
   "outputs": [
    {
     "name": "stderr",
     "output_type": "stream",
     "text": [
      "C:\\ProgramData\\Anaconda3\\lib\\site-packages\\ipykernel_launcher.py:4: SettingWithCopyWarning: \n",
      "A value is trying to be set on a copy of a slice from a DataFrame.\n",
      "Try using .loc[row_indexer,col_indexer] = value instead\n",
      "\n",
      "See the caveats in the documentation: http://pandas.pydata.org/pandas-docs/stable/indexing.html#indexing-view-versus-copy\n",
      "  after removing the cwd from sys.path.\n"
     ]
    },
    {
     "data": {
      "text/plain": [
       "<matplotlib.collections.PathCollection at 0x21fcdfe6e80>"
      ]
     },
     "execution_count": 89,
     "metadata": {},
     "output_type": "execute_result"
    },
    {
     "data": {
      "image/png": "[encoded data removed]",
      "text/plain": [
       "<Figure size 432x288 with 1 Axes>"
      ]
     },
     "metadata": {
      "needs_background": "light"
     },
     "output_type": "display_data"
    }
   ],
   "source": [
    "city1 = train[train[\"geo_cluster\"] == 1]\n",
    "geo_info_city1 = city1[[\"Longitude\", \"Latitude\"]]\n",
    "kmeans_city1  = KMeans(n_clusters=8).fit(geo_info_city1)\n",
    "city1[\"street_cluster\"] = kmeans_city1.labels_\n",
    "plt.scatter(city1.Longitude, city1.Latitude, c = city1[\"street_cluster\"])"
   ]
  },
  {
   "cell_type": "code",
   "execution_count": 90,
   "metadata": {},
   "outputs": [
    {
     "name": "stderr",
     "output_type": "stream",
     "text": [
      "C:\\ProgramData\\Anaconda3\\lib\\site-packages\\ipykernel_launcher.py:4: SettingWithCopyWarning: \n",
      "A value is trying to be set on a copy of a slice from a DataFrame.\n",
      "Try using .loc[row_indexer,col_indexer] = value instead\n",
      "\n",
      "See the caveats in the documentation: http://pandas.pydata.org/pandas-docs/stable/indexing.html#indexing-view-versus-copy\n",
      "  after removing the cwd from sys.path.\n"
     ]
    },
    {
     "data": {
      "text/plain": [
       "<matplotlib.collections.PathCollection at 0x21fcb6cbcf8>"
      ]
     },
     "execution_count": 90,
     "metadata": {},
     "output_type": "execute_result"
    },
    {
     "data": {
      "image/png": "[encoded data removed]",
      "text/plain": [
       "<Figure size 432x288 with 1 Axes>"
      ]
     },
     "metadata": {
      "needs_background": "light"
     },
     "output_type": "display_data"
    }
   ],
   "source": [
    "city2 = train[train[\"geo_cluster\"] == 2]\n",
    "geo_info_city2 = city2[[\"Longitude\", \"Latitude\"]]\n",
    "kmeans_city2 = KMeans(n_clusters=8).fit(geo_info_city2)\n",
    "city2[\"street_cluster\"] = kmeans_city2.labels_\n",
    "plt.scatter(city2.Longitude, city2.Latitude, c = city2[\"street_cluster\"])"
   ]
  },
  {
   "cell_type": "code",
   "execution_count": 93,
   "metadata": {},
   "outputs": [
    {
     "name": "stderr",
     "output_type": "stream",
     "text": [
      "C:\\ProgramData\\Anaconda3\\lib\\site-packages\\ipykernel_launcher.py:4: SettingWithCopyWarning: \n",
      "A value is trying to be set on a copy of a slice from a DataFrame.\n",
      "Try using .loc[row_indexer,col_indexer] = value instead\n",
      "\n",
      "See the caveats in the documentation: http://pandas.pydata.org/pandas-docs/stable/indexing.html#indexing-view-versus-copy\n",
      "  after removing the cwd from sys.path.\n"
     ]
    },
    {
     "data": {
      "text/plain": [
       "<matplotlib.collections.PathCollection at 0x21fcd2bb390>"
      ]
     },
     "execution_count": 93,
     "metadata": {},
     "output_type": "execute_result"
    },
    {
     "data": {
      "image/png": "[encoded data removed]",
      "text/plain": [
       "<Figure size 432x288 with 1 Axes>"
      ]
     },
     "metadata": {
      "needs_background": "light"
     },
     "output_type": "display_data"
    }
   ],
   "source": [
    "city3= train[train[\"geo_cluster\"] == 3]\n",
    "geo_info_city3 = city3[[\"Longitude\", \"Latitude\"]]\n",
    "kmeans_city3 = KMeans(n_clusters=8).fit(geo_info_city3)\n",
    "city3[\"street_cluster\"] = kmeans_city3.labels_\n",
    "plt.scatter(city3.Longitude, city3.Latitude, c = city3[\"street_cluster\"])"
   ]
  },
  {
   "cell_type": "markdown",
   "metadata": {},
   "source": [
    "## Hours to traffic\n",
    "For each city, let's look at the average total waiting time (50th percentile) by hours"
   ]
  },
  {
   "cell_type": "code",
   "execution_count": 46,
   "metadata": {},
   "outputs": [
    {
     "name": "stdout",
     "output_type": "stream",
     "text": [
      "city 0 at hour0\n"
     ]
    },
    {
     "data": {
      "image/png": "[encoded data removed]",
      "text/plain": [
       "<Figure size 432x288 with 1 Axes>"
      ]
     },
     "metadata": {
      "needs_background": "light"
     },
     "output_type": "display_data"
    },
    {
     "name": "stdout",
     "output_type": "stream",
     "text": [
      "city 0 at hour1\n"
     ]
    },
    {
     "data": {
      "image/png": "[encoded data removed]",
      "text/plain": [
       "<Figure size 432x288 with 1 Axes>"
      ]
     },
     "metadata": {
      "needs_background": "light"
     },
     "output_type": "display_data"
    },
    {
     "name": "stdout",
     "output_type": "stream",
     "text": [
      "city 0 at hour2\n"
     ]
    },
    {
     "data": {
      "image/png": "[encoded data removed]",
      "text/plain": [
       "<Figure size 432x288 with 1 Axes>"
      ]
     },
     "metadata": {
      "needs_background": "light"
     },
     "output_type": "display_data"
    },
    {
     "name": "stdout",
     "output_type": "stream",
     "text": [
      "city 0 at hour3\n"
     ]
    },
    {
     "data": {
      "image/png": "[encoded data removed]",
      "text/plain": [
       "<Figure size 432x288 with 1 Axes>"
      ]
     },
     "metadata": {
      "needs_background": "light"
     },
     "output_type": "display_data"
    },
    {
     "name": "stdout",
     "output_type": "stream",
     "text": [
      "city 0 at hour4\n"
     ]
    },
    {
     "data": {
      "image/png": "[encoded data removed]",
      "text/plain": [
       "<Figure size 432x288 with 1 Axes>"
      ]
     },
     "metadata": {
      "needs_background": "light"
     },
     "output_type": "display_data"
    },
    {
     "name": "stdout",
     "output_type": "stream",
     "text": [
      "city 0 at hour5\n"
     ]
    },
    {
     "data": {
      "image/png": "[encoded data removed]",
      "text/plain": [
       "<Figure size 432x288 with 1 Axes>"
      ]
     },
     "metadata": {
      "needs_background": "light"
     },
     "output_type": "display_data"
    },
    {
     "name": "stdout",
     "output_type": "stream",
     "text": [
      "city 0 at hour6\n"
     ]
    },
    {
     "data": {
      "image/png": "[encoded data removed]",
      "text/plain": [
       "<Figure size 432x288 with 1 Axes>"
      ]
     },
     "metadata": {
      "needs_background": "light"
     },
     "output_type": "display_data"
    },
    {
     "name": "stdout",
     "output_type": "stream",
     "text": [
      "city 0 at hour7\n"
     ]
    },
    {
     "data": {
      "image/png": "[encoded data removed]",
      "text/plain": [
       "<Figure size 432x288 with 1 Axes>"
      ]
     },
     "metadata": {
      "needs_background": "light"
     },
     "output_type": "display_data"
    },
    {
     "name": "stdout",
     "output_type": "stream",
     "text": [
      "city 0 at hour8\n"
     ]
    },
    {
     "data": {
      "image/png": "[encoded data removed]",
      "text/plain": [
       "<Figure size 432x288 with 1 Axes>"
      ]
     },
     "metadata": {
      "needs_background": "light"
     },
     "output_type": "display_data"
    },
    {
     "name": "stdout",
     "output_type": "stream",
     "text": [
      "city 0 at hour9\n"
     ]
    },
    {
     "data": {
      "image/png": "[encoded data removed]",
      "text/plain": [
       "<Figure size 432x288 with 1 Axes>"
      ]
     },
     "metadata": {
      "needs_background": "light"
     },
     "output_type": "display_data"
    },
    {
     "name": "stdout",
     "output_type": "stream",
     "text": [
      "city 0 at hour10\n"
     ]
    },
    {
     "data": {
      "image/png": "[encoded data removed]",
      "text/plain": [
       "<Figure size 432x288 with 1 Axes>"
      ]
     },
     "metadata": {
      "needs_background": "light"
     },
     "output_type": "display_data"
    },
    {
     "name": "stdout",
     "output_type": "stream",
     "text": [
      "city 0 at hour11\n"
     ]
    },
    {
     "data": {
      "image/png": "[encoded data removed]",
      "text/plain": [
       "<Figure size 432x288 with 1 Axes>"
      ]
     },
     "metadata": {
      "needs_background": "light"
     },
     "output_type": "display_data"
    },
    {
     "name": "stdout",
     "output_type": "stream",
     "text": [
      "city 0 at hour12\n"
     ]
    },
    {
     "data": {
      "image/png": "[encoded data removed]",
      "text/plain": [
       "<Figure size 432x288 with 1 Axes>"
      ]
     },
     "metadata": {
      "needs_background": "light"
     },
     "output_type": "display_data"
    },
    {
     "name": "stdout",
     "output_type": "stream",
     "text": [
      "city 0 at hour13\n"
     ]
    },
    {
     "data": {
      "image/png": "[encoded data removed]",
      "text/plain": [
       "<Figure size 432x288 with 1 Axes>"
      ]
     },
     "metadata": {
      "needs_background": "light"
     },
     "output_type": "display_data"
    },
    {
     "name": "stdout",
     "output_type": "stream",
     "text": [
      "city 0 at hour14\n"
     ]
    },
    {
     "data": {
      "image/png": "[encoded data removed]",
      "text/plain": [
       "<Figure size 432x288 with 1 Axes>"
      ]
     },
     "metadata": {
      "needs_background": "light"
     },
     "output_type": "display_data"
    },
    {
     "name": "stdout",
     "output_type": "stream",
     "text": [
      "city 0 at hour15\n"
     ]
    },
    {
     "data": {
      "image/png": "[encoded data removed]",
      "text/plain": [
       "<Figure size 432x288 with 1 Axes>"
      ]
     },
     "metadata": {
      "needs_background": "light"
     },
     "output_type": "display_data"
    },
    {
     "name": "stdout",
     "output_type": "stream",
     "text": [
      "city 0 at hour16\n"
     ]
    },
    {
     "data": {
      "image/png": "[encoded data removed]",
      "text/plain": [
       "<Figure size 432x288 with 1 Axes>"
      ]
     },
     "metadata": {
      "needs_background": "light"
     },
     "output_type": "display_data"
    },
    {
     "name": "stdout",
     "output_type": "stream",
     "text": [
      "city 0 at hour17\n"
     ]
    },
    {
     "data": {
      "image/png": "[encoded data removed]",
      "text/plain": [
       "<Figure size 432x288 with 1 Axes>"
      ]
     },
     "metadata": {
      "needs_background": "light"
     },
     "output_type": "display_data"
    },
    {
     "name": "stdout",
     "output_type": "stream",
     "text": [
      "city 0 at hour18\n"
     ]
    },
    {
     "data": {
      "image/png": "[encoded data removed]",
      "text/plain": [
       "<Figure size 432x288 with 1 Axes>"
      ]
     },
     "metadata": {
      "needs_background": "light"
     },
     "output_type": "display_data"
    },
    {
     "name": "stdout",
     "output_type": "stream",
     "text": [
      "city 0 at hour19\n"
     ]
    },
    {
     "data": {
      "image/png": "[encoded data removed]",
      "text/plain": [
       "<Figure size 432x288 with 1 Axes>"
      ]
     },
     "metadata": {
      "needs_background": "light"
     },
     "output_type": "display_data"
    },
    {
     "name": "stdout",
     "output_type": "stream",
     "text": [
      "city 0 at hour20\n"
     ]
    },
    {
     "data": {
      "image/png": "[encoded data removed]",
      "text/plain": [
       "<Figure size 432x288 with 1 Axes>"
      ]
     },
     "metadata": {
      "needs_background": "light"
     },
     "output_type": "display_data"
    },
    {
     "name": "stdout",
     "output_type": "stream",
     "text": [
      "city 0 at hour21\n"
     ]
    },
    {
     "data": {
      "image/png": "[encoded data removed]",
      "text/plain": [
       "<Figure size 432x288 with 1 Axes>"
      ]
     },
     "metadata": {
      "needs_background": "light"
     },
     "output_type": "display_data"
    },
    {
     "name": "stdout",
     "output_type": "stream",
     "text": [
      "city 0 at hour22\n"
     ]
    },
    {
     "data": {
      "image/png": "[encoded data removed]",
      "text/plain": [
       "<Figure size 432x288 with 1 Axes>"
      ]
     },
     "metadata": {
      "needs_background": "light"
     },
     "output_type": "display_data"
    },
    {
     "name": "stdout",
     "output_type": "stream",
     "text": [
      "city 0 at hour23\n"
     ]
    },
    {
     "data": {
      "image/png": "[encoded data removed]",
      "text/plain": [
       "<Figure size 432x288 with 1 Axes>"
      ]
     },
     "metadata": {
      "needs_background": "light"
     },
     "output_type": "display_data"
    }
   ],
   "source": [
    "for i in range(24):\n",
    "    wait_times_0 = train[(train[\"geo_cluster\"] == 0) & (train[\"Hour\"] == i)][\"TotalTimeStopped_p50\"]\n",
    "    plt.hist(wait_times_0)\n",
    "    print('city 0 at hour '+str(i))\n",
    "    plt.show()"
   ]
  },
  {
   "cell_type": "markdown",
   "metadata": {},
   "source": [
    "It seems like even with the separation of time, the data is highly unbalanced. So let's try to find the busy street first. By busy, for now we define it as TotalTimeStopped_p20 > 5 and TotalTimeStopped_p50 > 10. "
   ]
  },
  {
   "cell_type": "code",
   "execution_count": 76,
   "metadata": {},
   "outputs": [],
   "source": [
    "# helper function for easy visualization later\n",
    "def busy_streets(city, features_req):\n",
    "    busy_city = train[(train.geo_cluster == city)]\n",
    "    for k, v in features_req.items():\n",
    "        busy_city = busy_city[busy_city[k] > v]\n",
    "    #print(busy_city.shape)\n",
    "    print(\"number of unique busy intercestions in city {} : {}\".format(city, len(busy_city.IntersectionId.unique())))\n",
    "    return busy_city\n",
    "\n",
    "def busy_streets_by_hour(city, features_req):\n",
    "    busy_city=busy_streets(city, features_req)\n",
    "    ls = (busy_city.groupby(\"Hour\")[\"IntersectionId\"].aggregate(lambda ls: len(ls.unique())))\n",
    "    #print(ls)\n",
    "    plt.plot(ls, label = \"city \"+str(city))\n",
    "    return ls"
   ]
  },
  {
   "cell_type": "markdown",
   "metadata": {},
   "source": [
    "Separated by hour, how many (unique) intersections are busy?\n",
    "\n",
    "- suprisingly, even in the mid-night we see streets that are busy"
   ]
  },
  {
   "cell_type": "code",
   "execution_count": 77,
   "metadata": {},
   "outputs": [
    {
     "name": "stdout",
     "output_type": "stream",
     "text": [
      "number of unique busy intercestions in city 0 : 679\n",
      "number of unique busy intercestions in city 0 : 679\n",
      "number of unique busy intercestions in city 1 : 323\n",
      "number of unique busy intercestions in city 1 : 323\n",
      "number of unique busy intercestions in city 2 : 1198\n",
      "number of unique busy intercestions in city 2 : 1198\n",
      "number of unique busy intercestions in city 3 : 971\n",
      "number of unique busy intercestions in city 3 : 971\n"
     ]
    },
    {
     "data": {
      "text/plain": [
       "<matplotlib.legend.Legend at 0x21fccde8198>"
      ]
     },
     "execution_count": 77,
     "metadata": {},
     "output_type": "execute_result"
    },
    {
     "data": {
      "image/png": "[encoded data removed]",
      "text/plain": [
       "<Figure size 432x288 with 1 Axes>"
      ]
     },
     "metadata": {
      "needs_background": "light"
     },
     "output_type": "display_data"
    }
   ],
   "source": [
    "req = {\"TotalTimeStopped_p20\":5, \"TotalTimeStopped_p50\":10}\n",
    "for city in range(4):\n",
    "    busy_streets(city, req)\n",
    "    streets = busy_streets_by_hour(city, req)\n",
    "plt.legend(loc='upper left', frameon=False)"
   ]
  },
  {
   "cell_type": "markdown",
   "metadata": {},
   "source": [
    "Now we are seeing some differences in cities! City 3 is clearly the busiest at all time. This also corresponds to our observation that we have much more intersection data for city 3 and 2 than city 0 and 1."
   ]
  },
  {
   "cell_type": "markdown",
   "metadata": {},
   "source": [
    "Try a more strict definition of \"busy\", this time we restrict it to be have at least 30 minutes waiting time on average (total wait time 50th percentile > 30)\n",
    "   - Some interesting observations from the following data and chart:\n",
    "       - even though for city 0 we only have 973 unique intersections in our data, we see in its peak time, about 1/3 of its intersections are busy. And for city 1 we only have 377, at its peak time about half of them are busy\n",
    "       - now that we have a stricter definition of 'busy', the number of busy streets are actually getting closer to each other despite the number of total intersections in that city"
   ]
  },
  {
   "cell_type": "code",
   "execution_count": 81,
   "metadata": {},
   "outputs": [
    {
     "name": "stdout",
     "output_type": "stream",
     "text": [
      "number of unique busy intercestions in city 0 : 569\n",
      "number of unique busy intercestions in city 0 : 569\n",
      "number of unique busy intercestions in city 1 : 291\n",
      "number of unique busy intercestions in city 1 : 291\n",
      "number of unique busy intercestions in city 2 : 692\n",
      "number of unique busy intercestions in city 2 : 692\n",
      "number of unique busy intercestions in city 3 : 694\n",
      "number of unique busy intercestions in city 3 : 694\n"
     ]
    },
    {
     "data": {
      "text/plain": [
       "<matplotlib.legend.Legend at 0x21fcef153c8>"
      ]
     },
     "execution_count": 81,
     "metadata": {},
     "output_type": "execute_result"
    },
    {
     "data": {
      "image/png": "[encoded data removed]",
      "text/plain": [
       "<Figure size 432x288 with 1 Axes>"
      ]
     },
     "metadata": {
      "needs_background": "light"
     },
     "output_type": "display_data"
    }
   ],
   "source": [
    "req = {\"TotalTimeStopped_p20\":5, \"TotalTimeStopped_p50\":30}\n",
    "for city in range(4):\n",
    "    busy_streets(city, req)\n",
    "    streets = busy_streets_by_hour(city, req)\n",
    "plt.legend(loc='upper left', frameon=False)"
   ]
  },
  {
   "cell_type": "markdown",
   "metadata": {},
   "source": [
    "## time from first stop, distance from first stop, total stop time\n",
    "in this part, we try to understand the relationship between time from first stop, distance from first stop, and our total stop time\n",
    "* first let's look at the correlation matrix\n",
    "* the time from first stop is almost perfectly correlated to the total stop time\n",
    "* the distance from first stop is has a correlation coefficient of ~0.6, which indicates strong correlation as well"
   ]
  },
  {
   "cell_type": "code",
   "execution_count": 86,
   "metadata": {},
   "outputs": [
    {
     "data": {
      "text/html": [
       "<style  type=\"text/css\" >\n",
       "    #T_d1c2690c_fdcd_11e9_afd5_f48e38d38e7erow0_col0 {\n",
       "            background-color:  #b40426;\n",
       "            color:  #f1f1f1;\n",
       "        }    #T_d1c2690c_fdcd_11e9_afd5_f48e38d38e7erow0_col1 {\n",
       "            background-color:  #f7bca1;\n",
       "            color:  #000000;\n",
       "        }    #T_d1c2690c_fdcd_11e9_afd5_f48e38d38e7erow0_col2 {\n",
       "            background-color:  #e2dad5;\n",
       "            color:  #000000;\n",
       "        }    #T_d1c2690c_fdcd_11e9_afd5_f48e38d38e7erow0_col3 {\n",
       "            background-color:  #bbd1f8;\n",
       "            color:  #000000;\n",
       "        }    #T_d1c2690c_fdcd_11e9_afd5_f48e38d38e7erow0_col4 {\n",
       "            background-color:  #82a6fb;\n",
       "            color:  #000000;\n",
       "        }    #T_d1c2690c_fdcd_11e9_afd5_f48e38d38e7erow0_col5 {\n",
       "            background-color:  #d24b40;\n",
       "            color:  #f1f1f1;\n",
       "        }    #T_d1c2690c_fdcd_11e9_afd5_f48e38d38e7erow0_col6 {\n",
       "            background-color:  #cdd9ec;\n",
       "            color:  #000000;\n",
       "        }    #T_d1c2690c_fdcd_11e9_afd5_f48e38d38e7erow0_col7 {\n",
       "            background-color:  #86a9fc;\n",
       "            color:  #000000;\n",
       "        }    #T_d1c2690c_fdcd_11e9_afd5_f48e38d38e7erow0_col8 {\n",
       "            background-color:  #6384eb;\n",
       "            color:  #000000;\n",
       "        }    #T_d1c2690c_fdcd_11e9_afd5_f48e38d38e7erow0_col9 {\n",
       "            background-color:  #5977e3;\n",
       "            color:  #000000;\n",
       "        }    #T_d1c2690c_fdcd_11e9_afd5_f48e38d38e7erow0_col10 {\n",
       "            background-color:  #d2dbe8;\n",
       "            color:  #000000;\n",
       "        }    #T_d1c2690c_fdcd_11e9_afd5_f48e38d38e7erow0_col11 {\n",
       "            background-color:  #3b4cc0;\n",
       "            color:  #f1f1f1;\n",
       "        }    #T_d1c2690c_fdcd_11e9_afd5_f48e38d38e7erow0_col12 {\n",
       "            background-color:  #3b4cc0;\n",
       "            color:  #f1f1f1;\n",
       "        }    #T_d1c2690c_fdcd_11e9_afd5_f48e38d38e7erow0_col13 {\n",
       "            background-color:  #3b4cc0;\n",
       "            color:  #f1f1f1;\n",
       "        }    #T_d1c2690c_fdcd_11e9_afd5_f48e38d38e7erow0_col14 {\n",
       "            background-color:  #3b4cc0;\n",
       "            color:  #f1f1f1;\n",
       "        }    #T_d1c2690c_fdcd_11e9_afd5_f48e38d38e7erow1_col0 {\n",
       "            background-color:  #f7ac8e;\n",
       "            color:  #000000;\n",
       "        }    #T_d1c2690c_fdcd_11e9_afd5_f48e38d38e7erow1_col1 {\n",
       "            background-color:  #b40426;\n",
       "            color:  #f1f1f1;\n",
       "        }    #T_d1c2690c_fdcd_11e9_afd5_f48e38d38e7erow1_col2 {\n",
       "            background-color:  #d75445;\n",
       "            color:  #000000;\n",
       "        }    #T_d1c2690c_fdcd_11e9_afd5_f48e38d38e7erow1_col3 {\n",
       "            background-color:  #f39778;\n",
       "            color:  #000000;\n",
       "        }    #T_d1c2690c_fdcd_11e9_afd5_f48e38d38e7erow1_col4 {\n",
       "            background-color:  #ead5c9;\n",
       "            color:  #000000;\n",
       "        }    #T_d1c2690c_fdcd_11e9_afd5_f48e38d38e7erow1_col5 {\n",
       "            background-color:  #f7bca1;\n",
       "            color:  #000000;\n",
       "        }    #T_d1c2690c_fdcd_11e9_afd5_f48e38d38e7erow1_col6 {\n",
       "            background-color:  #dc5d4a;\n",
       "            color:  #000000;\n",
       "        }    #T_d1c2690c_fdcd_11e9_afd5_f48e38d38e7erow1_col7 {\n",
       "            background-color:  #f7a688;\n",
       "            color:  #000000;\n",
       "        }    #T_d1c2690c_fdcd_11e9_afd5_f48e38d38e7erow1_col8 {\n",
       "            background-color:  #ebd3c6;\n",
       "            color:  #000000;\n",
       "        }    #T_d1c2690c_fdcd_11e9_afd5_f48e38d38e7erow1_col9 {\n",
       "            background-color:  #cad8ef;\n",
       "            color:  #000000;\n",
       "        }    #T_d1c2690c_fdcd_11e9_afd5_f48e38d38e7erow1_col10 {\n",
       "            background-color:  #a1c0ff;\n",
       "            color:  #000000;\n",
       "        }    #T_d1c2690c_fdcd_11e9_afd5_f48e38d38e7erow1_col11 {\n",
       "            background-color:  #8caffe;\n",
       "            color:  #000000;\n",
       "        }    #T_d1c2690c_fdcd_11e9_afd5_f48e38d38e7erow1_col12 {\n",
       "            background-color:  #7da0f9;\n",
       "            color:  #000000;\n",
       "        }    #T_d1c2690c_fdcd_11e9_afd5_f48e38d38e7erow1_col13 {\n",
       "            background-color:  #6c8ff1;\n",
       "            color:  #000000;\n",
       "        }    #T_d1c2690c_fdcd_11e9_afd5_f48e38d38e7erow1_col14 {\n",
       "            background-color:  #6282ea;\n",
       "            color:  #000000;\n",
       "        }    #T_d1c2690c_fdcd_11e9_afd5_f48e38d38e7erow2_col0 {\n",
       "            background-color:  #f1ccb8;\n",
       "            color:  #000000;\n",
       "        }    #T_d1c2690c_fdcd_11e9_afd5_f48e38d38e7erow2_col1 {\n",
       "            background-color:  #d65244;\n",
       "            color:  #000000;\n",
       "        }    #T_d1c2690c_fdcd_11e9_afd5_f48e38d38e7erow2_col2 {\n",
       "            background-color:  #b40426;\n",
       "            color:  #f1f1f1;\n",
       "        }    #T_d1c2690c_fdcd_11e9_afd5_f48e38d38e7erow2_col3 {\n",
       "            background-color:  #de614d;\n",
       "            color:  #000000;\n",
       "        }    #T_d1c2690c_fdcd_11e9_afd5_f48e38d38e7erow2_col4 {\n",
       "            background-color:  #f7ba9f;\n",
       "            color:  #000000;\n",
       "        }    #T_d1c2690c_fdcd_11e9_afd5_f48e38d38e7erow2_col5 {\n",
       "            background-color:  #e9d5cb;\n",
       "            color:  #000000;\n",
       "        }    #T_d1c2690c_fdcd_11e9_afd5_f48e38d38e7erow2_col6 {\n",
       "            background-color:  #ee8468;\n",
       "            color:  #000000;\n",
       "        }    #T_d1c2690c_fdcd_11e9_afd5_f48e38d38e7erow2_col7 {\n",
       "            background-color:  #e16751;\n",
       "            color:  #000000;\n",
       "        }    #T_d1c2690c_fdcd_11e9_afd5_f48e38d38e7erow2_col8 {\n",
       "            background-color:  #f7ad90;\n",
       "            color:  #000000;\n",
       "        }    #T_d1c2690c_fdcd_11e9_afd5_f48e38d38e7erow2_col9 {\n",
       "            background-color:  #e4d9d2;\n",
       "            color:  #000000;\n",
       "        }    #T_d1c2690c_fdcd_11e9_afd5_f48e38d38e7erow2_col10 {\n",
       "            background-color:  #85a8fc;\n",
       "            color:  #000000;\n",
       "        }    #T_d1c2690c_fdcd_11e9_afd5_f48e38d38e7erow2_col11 {\n",
       "            background-color:  #80a3fa;\n",
       "            color:  #000000;\n",
       "        }    #T_d1c2690c_fdcd_11e9_afd5_f48e38d38e7erow2_col12 {\n",
       "            background-color:  #93b5fe;\n",
       "            color:  #000000;\n",
       "        }    #T_d1c2690c_fdcd_11e9_afd5_f48e38d38e7erow2_col13 {\n",
       "            background-color:  #7ea1fa;\n",
       "            color:  #000000;\n",
       "        }    #T_d1c2690c_fdcd_11e9_afd5_f48e38d38e7erow2_col14 {\n",
       "            background-color:  #6c8ff1;\n",
       "            color:  #000000;\n",
       "        }    #T_d1c2690c_fdcd_11e9_afd5_f48e38d38e7erow3_col0 {\n",
       "            background-color:  #dddcdc;\n",
       "            color:  #000000;\n",
       "        }    #T_d1c2690c_fdcd_11e9_afd5_f48e38d38e7erow3_col1 {\n",
       "            background-color:  #f18f71;\n",
       "            color:  #000000;\n",
       "        }    #T_d1c2690c_fdcd_11e9_afd5_f48e38d38e7erow3_col2 {\n",
       "            background-color:  #dd5f4b;\n",
       "            color:  #000000;\n",
       "        }    #T_d1c2690c_fdcd_11e9_afd5_f48e38d38e7erow3_col3 {\n",
       "            background-color:  #b40426;\n",
       "            color:  #f1f1f1;\n",
       "        }    #T_d1c2690c_fdcd_11e9_afd5_f48e38d38e7erow3_col4 {\n",
       "            background-color:  #f08b6e;\n",
       "            color:  #000000;\n",
       "        }    #T_d1c2690c_fdcd_11e9_afd5_f48e38d38e7erow3_col5 {\n",
       "            background-color:  #cedaeb;\n",
       "            color:  #000000;\n",
       "        }    #T_d1c2690c_fdcd_11e9_afd5_f48e38d38e7erow3_col6 {\n",
       "            background-color:  #f7b79b;\n",
       "            color:  #000000;\n",
       "        }    #T_d1c2690c_fdcd_11e9_afd5_f48e38d38e7erow3_col7 {\n",
       "            background-color:  #f4987a;\n",
       "            color:  #000000;\n",
       "        }    #T_d1c2690c_fdcd_11e9_afd5_f48e38d38e7erow3_col8 {\n",
       "            background-color:  #e36c55;\n",
       "            color:  #000000;\n",
       "        }    #T_d1c2690c_fdcd_11e9_afd5_f48e38d38e7erow3_col9 {\n",
       "            background-color:  #f6bda2;\n",
       "            color:  #000000;\n",
       "        }    #T_d1c2690c_fdcd_11e9_afd5_f48e38d38e7erow3_col10 {\n",
       "            background-color:  #6b8df0;\n",
       "            color:  #000000;\n",
       "        }    #T_d1c2690c_fdcd_11e9_afd5_f48e38d38e7erow3_col11 {\n",
       "            background-color:  #6a8bef;\n",
       "            color:  #000000;\n",
       "        }    #T_d1c2690c_fdcd_11e9_afd5_f48e38d38e7erow3_col12 {\n",
       "            background-color:  #86a9fc;\n",
       "            color:  #000000;\n",
       "        }    #T_d1c2690c_fdcd_11e9_afd5_f48e38d38e7erow3_col13 {\n",
       "            background-color:  #8fb1fe;\n",
       "            color:  #000000;\n",
       "        }    #T_d1c2690c_fdcd_11e9_afd5_f48e38d38e7erow3_col14 {\n",
       "            background-color:  #779af7;\n",
       "            color:  #000000;\n",
       "        }    #T_d1c2690c_fdcd_11e9_afd5_f48e38d38e7erow4_col0 {\n",
       "            background-color:  #b3cdfb;\n",
       "            color:  #000000;\n",
       "        }    #T_d1c2690c_fdcd_11e9_afd5_f48e38d38e7erow4_col1 {\n",
       "            background-color:  #efcfbf;\n",
       "            color:  #000000;\n",
       "        }    #T_d1c2690c_fdcd_11e9_afd5_f48e38d38e7erow4_col2 {\n",
       "            background-color:  #f7b89c;\n",
       "            color:  #000000;\n",
       "        }    #T_d1c2690c_fdcd_11e9_afd5_f48e38d38e7erow4_col3 {\n",
       "            background-color:  #f08b6e;\n",
       "            color:  #000000;\n",
       "        }    #T_d1c2690c_fdcd_11e9_afd5_f48e38d38e7erow4_col4 {\n",
       "            background-color:  #b40426;\n",
       "            color:  #f1f1f1;\n",
       "        }    #T_d1c2690c_fdcd_11e9_afd5_f48e38d38e7erow4_col5 {\n",
       "            background-color:  #9bbcff;\n",
       "            color:  #000000;\n",
       "        }    #T_d1c2690c_fdcd_11e9_afd5_f48e38d38e7erow4_col6 {\n",
       "            background-color:  #cdd9ec;\n",
       "            color:  #000000;\n",
       "        }    #T_d1c2690c_fdcd_11e9_afd5_f48e38d38e7erow4_col7 {\n",
       "            background-color:  #dddcdc;\n",
       "            color:  #000000;\n",
       "        }    #T_d1c2690c_fdcd_11e9_afd5_f48e38d38e7erow4_col8 {\n",
       "            background-color:  #f6bea4;\n",
       "            color:  #000000;\n",
       "        }    #T_d1c2690c_fdcd_11e9_afd5_f48e38d38e7erow4_col9 {\n",
       "            background-color:  #e67259;\n",
       "            color:  #000000;\n",
       "        }    #T_d1c2690c_fdcd_11e9_afd5_f48e38d38e7erow4_col10 {\n",
       "            background-color:  #445acc;\n",
       "            color:  #f1f1f1;\n",
       "        }    #T_d1c2690c_fdcd_11e9_afd5_f48e38d38e7erow4_col11 {\n",
       "            background-color:  #4257c9;\n",
       "            color:  #f1f1f1;\n",
       "        }    #T_d1c2690c_fdcd_11e9_afd5_f48e38d38e7erow4_col12 {\n",
       "            background-color:  #6384eb;\n",
       "            color:  #000000;\n",
       "        }    #T_d1c2690c_fdcd_11e9_afd5_f48e38d38e7erow4_col13 {\n",
       "            background-color:  #779af7;\n",
       "            color:  #000000;\n",
       "        }    #T_d1c2690c_fdcd_11e9_afd5_f48e38d38e7erow4_col14 {\n",
       "            background-color:  #85a8fc;\n",
       "            color:  #000000;\n",
       "        }    #T_d1c2690c_fdcd_11e9_afd5_f48e38d38e7erow5_col0 {\n",
       "            background-color:  #d0473d;\n",
       "            color:  #f1f1f1;\n",
       "        }    #T_d1c2690c_fdcd_11e9_afd5_f48e38d38e7erow5_col1 {\n",
       "            background-color:  #f6bda2;\n",
       "            color:  #000000;\n",
       "        }    #T_d1c2690c_fdcd_11e9_afd5_f48e38d38e7erow5_col2 {\n",
       "            background-color:  #e2dad5;\n",
       "            color:  #000000;\n",
       "        }    #T_d1c2690c_fdcd_11e9_afd5_f48e38d38e7erow5_col3 {\n",
       "            background-color:  #bfd3f6;\n",
       "            color:  #000000;\n",
       "        }    #T_d1c2690c_fdcd_11e9_afd5_f48e38d38e7erow5_col4 {\n",
       "            background-color:  #86a9fc;\n",
       "            color:  #000000;\n",
       "        }    #T_d1c2690c_fdcd_11e9_afd5_f48e38d38e7erow5_col5 {\n",
       "            background-color:  #b40426;\n",
       "            color:  #f1f1f1;\n",
       "        }    #T_d1c2690c_fdcd_11e9_afd5_f48e38d38e7erow5_col6 {\n",
       "            background-color:  #e7d7ce;\n",
       "            color:  #000000;\n",
       "        }    #T_d1c2690c_fdcd_11e9_afd5_f48e38d38e7erow5_col7 {\n",
       "            background-color:  #aac7fd;\n",
       "            color:  #000000;\n",
       "        }    #T_d1c2690c_fdcd_11e9_afd5_f48e38d38e7erow5_col8 {\n",
       "            background-color:  #82a6fb;\n",
       "            color:  #000000;\n",
       "        }    #T_d1c2690c_fdcd_11e9_afd5_f48e38d38e7erow5_col9 {\n",
       "            background-color:  #7093f3;\n",
       "            color:  #000000;\n",
       "        }    #T_d1c2690c_fdcd_11e9_afd5_f48e38d38e7erow5_col10 {\n",
       "            background-color:  #f7aa8c;\n",
       "            color:  #000000;\n",
       "        }    #T_d1c2690c_fdcd_11e9_afd5_f48e38d38e7erow5_col11 {\n",
       "            background-color:  #85a8fc;\n",
       "            color:  #000000;\n",
       "        }    #T_d1c2690c_fdcd_11e9_afd5_f48e38d38e7erow5_col12 {\n",
       "            background-color:  #779af7;\n",
       "            color:  #000000;\n",
       "        }    #T_d1c2690c_fdcd_11e9_afd5_f48e38d38e7erow5_col13 {\n",
       "            background-color:  #6b8df0;\n",
       "            color:  #000000;\n",
       "        }    #T_d1c2690c_fdcd_11e9_afd5_f48e38d38e7erow5_col14 {\n",
       "            background-color:  #5d7ce6;\n",
       "            color:  #000000;\n",
       "        }    #T_d1c2690c_fdcd_11e9_afd5_f48e38d38e7erow6_col0 {\n",
       "            background-color:  #f4c6af;\n",
       "            color:  #000000;\n",
       "        }    #T_d1c2690c_fdcd_11e9_afd5_f48e38d38e7erow6_col1 {\n",
       "            background-color:  #d44e41;\n",
       "            color:  #000000;\n",
       "        }    #T_d1c2690c_fdcd_11e9_afd5_f48e38d38e7erow6_col2 {\n",
       "            background-color:  #e7745b;\n",
       "            color:  #000000;\n",
       "        }    #T_d1c2690c_fdcd_11e9_afd5_f48e38d38e7erow6_col3 {\n",
       "            background-color:  #f6a385;\n",
       "            color:  #000000;\n",
       "        }    #T_d1c2690c_fdcd_11e9_afd5_f48e38d38e7erow6_col4 {\n",
       "            background-color:  #e6d7cf;\n",
       "            color:  #000000;\n",
       "        }    #T_d1c2690c_fdcd_11e9_afd5_f48e38d38e7erow6_col5 {\n",
       "            background-color:  #f6bea4;\n",
       "            color:  #000000;\n",
       "        }    #T_d1c2690c_fdcd_11e9_afd5_f48e38d38e7erow6_col6 {\n",
       "            background-color:  #b40426;\n",
       "            color:  #f1f1f1;\n",
       "        }    #T_d1c2690c_fdcd_11e9_afd5_f48e38d38e7erow6_col7 {\n",
       "            background-color:  #e46e56;\n",
       "            color:  #000000;\n",
       "        }    #T_d1c2690c_fdcd_11e9_afd5_f48e38d38e7erow6_col8 {\n",
       "            background-color:  #f7b396;\n",
       "            color:  #000000;\n",
       "        }    #T_d1c2690c_fdcd_11e9_afd5_f48e38d38e7erow6_col9 {\n",
       "            background-color:  #e3d9d3;\n",
       "            color:  #000000;\n",
       "        }    #T_d1c2690c_fdcd_11e9_afd5_f48e38d38e7erow6_col10 {\n",
       "            background-color:  #c9d7f0;\n",
       "            color:  #000000;\n",
       "        }    #T_d1c2690c_fdcd_11e9_afd5_f48e38d38e7erow6_col11 {\n",
       "            background-color:  #f0cdbb;\n",
       "            color:  #000000;\n",
       "        }    #T_d1c2690c_fdcd_11e9_afd5_f48e38d38e7erow6_col12 {\n",
       "            background-color:  #dddcdc;\n",
       "            color:  #000000;\n",
       "        }    #T_d1c2690c_fdcd_11e9_afd5_f48e38d38e7erow6_col13 {\n",
       "            background-color:  #c4d5f3;\n",
       "            color:  #000000;\n",
       "        }    #T_d1c2690c_fdcd_11e9_afd5_f48e38d38e7erow6_col14 {\n",
       "            background-color:  #a3c2fe;\n",
       "            color:  #000000;\n",
       "        }    #T_d1c2690c_fdcd_11e9_afd5_f48e38d38e7erow7_col0 {\n",
       "            background-color:  #e4d9d2;\n",
       "            color:  #000000;\n",
       "        }    #T_d1c2690c_fdcd_11e9_afd5_f48e38d38e7erow7_col1 {\n",
       "            background-color:  #ed8366;\n",
       "            color:  #000000;\n",
       "        }    #T_d1c2690c_fdcd_11e9_afd5_f48e38d38e7erow7_col2 {\n",
       "            background-color:  #d65244;\n",
       "            color:  #000000;\n",
       "        }    #T_d1c2690c_fdcd_11e9_afd5_f48e38d38e7erow7_col3 {\n",
       "            background-color:  #ec7f63;\n",
       "            color:  #000000;\n",
       "        }    #T_d1c2690c_fdcd_11e9_afd5_f48e38d38e7erow7_col4 {\n",
       "            background-color:  #f5c4ac;\n",
       "            color:  #000000;\n",
       "        }    #T_d1c2690c_fdcd_11e9_afd5_f48e38d38e7erow7_col5 {\n",
       "            background-color:  #e7d7ce;\n",
       "            color:  #000000;\n",
       "        }    #T_d1c2690c_fdcd_11e9_afd5_f48e38d38e7erow7_col6 {\n",
       "            background-color:  #e16751;\n",
       "            color:  #000000;\n",
       "        }    #T_d1c2690c_fdcd_11e9_afd5_f48e38d38e7erow7_col7 {\n",
       "            background-color:  #b40426;\n",
       "            color:  #f1f1f1;\n",
       "        }    #T_d1c2690c_fdcd_11e9_afd5_f48e38d38e7erow7_col8 {\n",
       "            background-color:  #e8765c;\n",
       "            color:  #000000;\n",
       "        }    #T_d1c2690c_fdcd_11e9_afd5_f48e38d38e7erow7_col9 {\n",
       "            background-color:  #f5c1a9;\n",
       "            color:  #000000;\n",
       "        }    #T_d1c2690c_fdcd_11e9_afd5_f48e38d38e7erow7_col10 {\n",
       "            background-color:  #aac7fd;\n",
       "            color:  #000000;\n",
       "        }    #T_d1c2690c_fdcd_11e9_afd5_f48e38d38e7erow7_col11 {\n",
       "            background-color:  #dedcdb;\n",
       "            color:  #000000;\n",
       "        }    #T_d1c2690c_fdcd_11e9_afd5_f48e38d38e7erow7_col12 {\n",
       "            background-color:  #f2cab5;\n",
       "            color:  #000000;\n",
       "        }    #T_d1c2690c_fdcd_11e9_afd5_f48e38d38e7erow7_col13 {\n",
       "            background-color:  #dedcdb;\n",
       "            color:  #000000;\n",
       "        }    #T_d1c2690c_fdcd_11e9_afd5_f48e38d38e7erow7_col14 {\n",
       "            background-color:  #bbd1f8;\n",
       "            color:  #000000;\n",
       "        }    #T_d1c2690c_fdcd_11e9_afd5_f48e38d38e7erow8_col0 {\n",
       "            background-color:  #cfdaea;\n",
       "            color:  #000000;\n",
       "        }    #T_d1c2690c_fdcd_11e9_afd5_f48e38d38e7erow8_col1 {\n",
       "            background-color:  #f7b194;\n",
       "            color:  #000000;\n",
       "        }    #T_d1c2690c_fdcd_11e9_afd5_f48e38d38e7erow8_col2 {\n",
       "            background-color:  #f18f71;\n",
       "            color:  #000000;\n",
       "        }    #T_d1c2690c_fdcd_11e9_afd5_f48e38d38e7erow8_col3 {\n",
       "            background-color:  #da5a49;\n",
       "            color:  #000000;\n",
       "        }    #T_d1c2690c_fdcd_11e9_afd5_f48e38d38e7erow8_col4 {\n",
       "            background-color:  #f6a385;\n",
       "            color:  #000000;\n",
       "        }    #T_d1c2690c_fdcd_11e9_afd5_f48e38d38e7erow8_col5 {\n",
       "            background-color:  #cedaeb;\n",
       "            color:  #000000;\n",
       "        }    #T_d1c2690c_fdcd_11e9_afd5_f48e38d38e7erow8_col6 {\n",
       "            background-color:  #f7aa8c;\n",
       "            color:  #000000;\n",
       "        }    #T_d1c2690c_fdcd_11e9_afd5_f48e38d38e7erow8_col7 {\n",
       "            background-color:  #e9785d;\n",
       "            color:  #000000;\n",
       "        }    #T_d1c2690c_fdcd_11e9_afd5_f48e38d38e7erow8_col8 {\n",
       "            background-color:  #b40426;\n",
       "            color:  #f1f1f1;\n",
       "        }    #T_d1c2690c_fdcd_11e9_afd5_f48e38d38e7erow8_col9 {\n",
       "            background-color:  #f18f71;\n",
       "            color:  #000000;\n",
       "        }    #T_d1c2690c_fdcd_11e9_afd5_f48e38d38e7erow8_col10 {\n",
       "            background-color:  #8db0fe;\n",
       "            color:  #000000;\n",
       "        }    #T_d1c2690c_fdcd_11e9_afd5_f48e38d38e7erow8_col11 {\n",
       "            background-color:  #c3d5f4;\n",
       "            color:  #000000;\n",
       "        }    #T_d1c2690c_fdcd_11e9_afd5_f48e38d38e7erow8_col12 {\n",
       "            background-color:  #e3d9d3;\n",
       "            color:  #000000;\n",
       "        }    #T_d1c2690c_fdcd_11e9_afd5_f48e38d38e7erow8_col13 {\n",
       "            background-color:  #f2cab5;\n",
       "            color:  #000000;\n",
       "        }    #T_d1c2690c_fdcd_11e9_afd5_f48e38d38e7erow8_col14 {\n",
       "            background-color:  #d6dce4;\n",
       "            color:  #000000;\n",
       "        }    #T_d1c2690c_fdcd_11e9_afd5_f48e38d38e7erow9_col0 {\n",
       "            background-color:  #aac7fd;\n",
       "            color:  #000000;\n",
       "        }    #T_d1c2690c_fdcd_11e9_afd5_f48e38d38e7erow9_col1 {\n",
       "            background-color:  #e2dad5;\n",
       "            color:  #000000;\n",
       "        }    #T_d1c2690c_fdcd_11e9_afd5_f48e38d38e7erow9_col2 {\n",
       "            background-color:  #f0cdbb;\n",
       "            color:  #000000;\n",
       "        }    #T_d1c2690c_fdcd_11e9_afd5_f48e38d38e7erow9_col3 {\n",
       "            background-color:  #f7b396;\n",
       "            color:  #000000;\n",
       "        }    #T_d1c2690c_fdcd_11e9_afd5_f48e38d38e7erow9_col4 {\n",
       "            background-color:  #e36b54;\n",
       "            color:  #000000;\n",
       "        }    #T_d1c2690c_fdcd_11e9_afd5_f48e38d38e7erow9_col5 {\n",
       "            background-color:  #a2c1ff;\n",
       "            color:  #000000;\n",
       "        }    #T_d1c2690c_fdcd_11e9_afd5_f48e38d38e7erow9_col6 {\n",
       "            background-color:  #d9dce1;\n",
       "            color:  #000000;\n",
       "        }    #T_d1c2690c_fdcd_11e9_afd5_f48e38d38e7erow9_col7 {\n",
       "            background-color:  #ebd3c6;\n",
       "            color:  #000000;\n",
       "        }    #T_d1c2690c_fdcd_11e9_afd5_f48e38d38e7erow9_col8 {\n",
       "            background-color:  #f59f80;\n",
       "            color:  #000000;\n",
       "        }    #T_d1c2690c_fdcd_11e9_afd5_f48e38d38e7erow9_col9 {\n",
       "            background-color:  #b40426;\n",
       "            color:  #f1f1f1;\n",
       "        }    #T_d1c2690c_fdcd_11e9_afd5_f48e38d38e7erow9_col10 {\n",
       "            background-color:  #6282ea;\n",
       "            color:  #000000;\n",
       "        }    #T_d1c2690c_fdcd_11e9_afd5_f48e38d38e7erow9_col11 {\n",
       "            background-color:  #8db0fe;\n",
       "            color:  #000000;\n",
       "        }    #T_d1c2690c_fdcd_11e9_afd5_f48e38d38e7erow9_col12 {\n",
       "            background-color:  #bbd1f8;\n",
       "            color:  #000000;\n",
       "        }    #T_d1c2690c_fdcd_11e9_afd5_f48e38d38e7erow9_col13 {\n",
       "            background-color:  #dbdcde;\n",
       "            color:  #000000;\n",
       "        }    #T_d1c2690c_fdcd_11e9_afd5_f48e38d38e7erow9_col14 {\n",
       "            background-color:  #f2cab5;\n",
       "            color:  #000000;\n",
       "        }    #T_d1c2690c_fdcd_11e9_afd5_f48e38d38e7erow10_col0 {\n",
       "            background-color:  #e8d6cc;\n",
       "            color:  #000000;\n",
       "        }    #T_d1c2690c_fdcd_11e9_afd5_f48e38d38e7erow10_col1 {\n",
       "            background-color:  #a9c6fd;\n",
       "            color:  #000000;\n",
       "        }    #T_d1c2690c_fdcd_11e9_afd5_f48e38d38e7erow10_col2 {\n",
       "            background-color:  #84a7fc;\n",
       "            color:  #000000;\n",
       "        }    #T_d1c2690c_fdcd_11e9_afd5_f48e38d38e7erow10_col3 {\n",
       "            background-color:  #5f7fe8;\n",
       "            color:  #000000;\n",
       "        }    #T_d1c2690c_fdcd_11e9_afd5_f48e38d38e7erow10_col4 {\n",
       "            background-color:  #3b4cc0;\n",
       "            color:  #f1f1f1;\n",
       "        }    #T_d1c2690c_fdcd_11e9_afd5_f48e38d38e7erow10_col5 {\n",
       "            background-color:  #f6a586;\n",
       "            color:  #000000;\n",
       "        }    #T_d1c2690c_fdcd_11e9_afd5_f48e38d38e7erow10_col6 {\n",
       "            background-color:  #9bbcff;\n",
       "            color:  #000000;\n",
       "        }    #T_d1c2690c_fdcd_11e9_afd5_f48e38d38e7erow10_col7 {\n",
       "            background-color:  #5470de;\n",
       "            color:  #000000;\n",
       "        }    #T_d1c2690c_fdcd_11e9_afd5_f48e38d38e7erow10_col8 {\n",
       "            background-color:  #3b4cc0;\n",
       "            color:  #f1f1f1;\n",
       "        }    #T_d1c2690c_fdcd_11e9_afd5_f48e38d38e7erow10_col9 {\n",
       "            background-color:  #3b4cc0;\n",
       "            color:  #f1f1f1;\n",
       "        }    #T_d1c2690c_fdcd_11e9_afd5_f48e38d38e7erow10_col10 {\n",
       "            background-color:  #b40426;\n",
       "            color:  #f1f1f1;\n",
       "        }    #T_d1c2690c_fdcd_11e9_afd5_f48e38d38e7erow10_col11 {\n",
       "            background-color:  #bed2f6;\n",
       "            color:  #000000;\n",
       "        }    #T_d1c2690c_fdcd_11e9_afd5_f48e38d38e7erow10_col12 {\n",
       "            background-color:  #a1c0ff;\n",
       "            color:  #000000;\n",
       "        }    #T_d1c2690c_fdcd_11e9_afd5_f48e38d38e7erow10_col13 {\n",
       "            background-color:  #88abfd;\n",
       "            color:  #000000;\n",
       "        }    #T_d1c2690c_fdcd_11e9_afd5_f48e38d38e7erow10_col14 {\n",
       "            background-color:  #6b8df0;\n",
       "            color:  #000000;\n",
       "        }    #T_d1c2690c_fdcd_11e9_afd5_f48e38d38e7erow11_col0 {\n",
       "            background-color:  #8db0fe;\n",
       "            color:  #000000;\n",
       "        }    #T_d1c2690c_fdcd_11e9_afd5_f48e38d38e7erow11_col1 {\n",
       "            background-color:  #b2ccfb;\n",
       "            color:  #000000;\n",
       "        }    #T_d1c2690c_fdcd_11e9_afd5_f48e38d38e7erow11_col2 {\n",
       "            background-color:  #9ebeff;\n",
       "            color:  #000000;\n",
       "        }    #T_d1c2690c_fdcd_11e9_afd5_f48e38d38e7erow11_col3 {\n",
       "            background-color:  #82a6fb;\n",
       "            color:  #000000;\n",
       "        }    #T_d1c2690c_fdcd_11e9_afd5_f48e38d38e7erow11_col4 {\n",
       "            background-color:  #5d7ce6;\n",
       "            color:  #000000;\n",
       "        }    #T_d1c2690c_fdcd_11e9_afd5_f48e38d38e7erow11_col5 {\n",
       "            background-color:  #afcafc;\n",
       "            color:  #000000;\n",
       "        }    #T_d1c2690c_fdcd_11e9_afd5_f48e38d38e7erow11_col6 {\n",
       "            background-color:  #ead5c9;\n",
       "            color:  #000000;\n",
       "        }    #T_d1c2690c_fdcd_11e9_afd5_f48e38d38e7erow11_col7 {\n",
       "            background-color:  #c0d4f5;\n",
       "            color:  #000000;\n",
       "        }    #T_d1c2690c_fdcd_11e9_afd5_f48e38d38e7erow11_col8 {\n",
       "            background-color:  #9fbfff;\n",
       "            color:  #000000;\n",
       "        }    #T_d1c2690c_fdcd_11e9_afd5_f48e38d38e7erow11_col9 {\n",
       "            background-color:  #89acfd;\n",
       "            color:  #000000;\n",
       "        }    #T_d1c2690c_fdcd_11e9_afd5_f48e38d38e7erow11_col10 {\n",
       "            background-color:  #d3dbe7;\n",
       "            color:  #000000;\n",
       "        }    #T_d1c2690c_fdcd_11e9_afd5_f48e38d38e7erow11_col11 {\n",
       "            background-color:  #b40426;\n",
       "            color:  #f1f1f1;\n",
       "        }    #T_d1c2690c_fdcd_11e9_afd5_f48e38d38e7erow11_col12 {\n",
       "            background-color:  #ec7f63;\n",
       "            color:  #000000;\n",
       "        }    #T_d1c2690c_fdcd_11e9_afd5_f48e38d38e7erow11_col13 {\n",
       "            background-color:  #f5c0a7;\n",
       "            color:  #000000;\n",
       "        }    #T_d1c2690c_fdcd_11e9_afd5_f48e38d38e7erow11_col14 {\n",
       "            background-color:  #cfdaea;\n",
       "            color:  #000000;\n",
       "        }    #T_d1c2690c_fdcd_11e9_afd5_f48e38d38e7erow12_col0 {\n",
       "            background-color:  #7295f4;\n",
       "            color:  #000000;\n",
       "        }    #T_d1c2690c_fdcd_11e9_afd5_f48e38d38e7erow12_col1 {\n",
       "            background-color:  #8caffe;\n",
       "            color:  #000000;\n",
       "        }    #T_d1c2690c_fdcd_11e9_afd5_f48e38d38e7erow12_col2 {\n",
       "            background-color:  #98b9ff;\n",
       "            color:  #000000;\n",
       "        }    #T_d1c2690c_fdcd_11e9_afd5_f48e38d38e7erow12_col3 {\n",
       "            background-color:  #81a4fb;\n",
       "            color:  #000000;\n",
       "        }    #T_d1c2690c_fdcd_11e9_afd5_f48e38d38e7erow12_col4 {\n",
       "            background-color:  #5f7fe8;\n",
       "            color:  #000000;\n",
       "        }    #T_d1c2690c_fdcd_11e9_afd5_f48e38d38e7erow12_col5 {\n",
       "            background-color:  #8badfd;\n",
       "            color:  #000000;\n",
       "        }    #T_d1c2690c_fdcd_11e9_afd5_f48e38d38e7erow12_col6 {\n",
       "            background-color:  #bfd3f6;\n",
       "            color:  #000000;\n",
       "        }    #T_d1c2690c_fdcd_11e9_afd5_f48e38d38e7erow12_col7 {\n",
       "            background-color:  #d3dbe7;\n",
       "            color:  #000000;\n",
       "        }    #T_d1c2690c_fdcd_11e9_afd5_f48e38d38e7erow12_col8 {\n",
       "            background-color:  #bad0f8;\n",
       "            color:  #000000;\n",
       "        }    #T_d1c2690c_fdcd_11e9_afd5_f48e38d38e7erow12_col9 {\n",
       "            background-color:  #a2c1ff;\n",
       "            color:  #000000;\n",
       "        }    #T_d1c2690c_fdcd_11e9_afd5_f48e38d38e7erow12_col10 {\n",
       "            background-color:  #a6c4fe;\n",
       "            color:  #000000;\n",
       "        }    #T_d1c2690c_fdcd_11e9_afd5_f48e38d38e7erow12_col11 {\n",
       "            background-color:  #ef886b;\n",
       "            color:  #000000;\n",
       "        }    #T_d1c2690c_fdcd_11e9_afd5_f48e38d38e7erow12_col12 {\n",
       "            background-color:  #b40426;\n",
       "            color:  #f1f1f1;\n",
       "        }    #T_d1c2690c_fdcd_11e9_afd5_f48e38d38e7erow12_col13 {\n",
       "            background-color:  #ee8468;\n",
       "            color:  #000000;\n",
       "        }    #T_d1c2690c_fdcd_11e9_afd5_f48e38d38e7erow12_col14 {\n",
       "            background-color:  #edd1c2;\n",
       "            color:  #000000;\n",
       "        }    #T_d1c2690c_fdcd_11e9_afd5_f48e38d38e7erow13_col0 {\n",
       "            background-color:  #5a78e4;\n",
       "            color:  #000000;\n",
       "        }    #T_d1c2690c_fdcd_11e9_afd5_f48e38d38e7erow13_col1 {\n",
       "            background-color:  #6485ec;\n",
       "            color:  #000000;\n",
       "        }    #T_d1c2690c_fdcd_11e9_afd5_f48e38d38e7erow13_col2 {\n",
       "            background-color:  #6b8df0;\n",
       "            color:  #000000;\n",
       "        }    #T_d1c2690c_fdcd_11e9_afd5_f48e38d38e7erow13_col3 {\n",
       "            background-color:  #7295f4;\n",
       "            color:  #000000;\n",
       "        }    #T_d1c2690c_fdcd_11e9_afd5_f48e38d38e7erow13_col4 {\n",
       "            background-color:  #5b7ae5;\n",
       "            color:  #000000;\n",
       "        }    #T_d1c2690c_fdcd_11e9_afd5_f48e38d38e7erow13_col5 {\n",
       "            background-color:  #688aef;\n",
       "            color:  #000000;\n",
       "        }    #T_d1c2690c_fdcd_11e9_afd5_f48e38d38e7erow13_col6 {\n",
       "            background-color:  #85a8fc;\n",
       "            color:  #000000;\n",
       "        }    #T_d1c2690c_fdcd_11e9_afd5_f48e38d38e7erow13_col7 {\n",
       "            background-color:  #96b7ff;\n",
       "            color:  #000000;\n",
       "        }    #T_d1c2690c_fdcd_11e9_afd5_f48e38d38e7erow13_col8 {\n",
       "            background-color:  #cbd8ee;\n",
       "            color:  #000000;\n",
       "        }    #T_d1c2690c_fdcd_11e9_afd5_f48e38d38e7erow13_col9 {\n",
       "            background-color:  #bbd1f8;\n",
       "            color:  #000000;\n",
       "        }    #T_d1c2690c_fdcd_11e9_afd5_f48e38d38e7erow13_col10 {\n",
       "            background-color:  #779af7;\n",
       "            color:  #000000;\n",
       "        }    #T_d1c2690c_fdcd_11e9_afd5_f48e38d38e7erow13_col11 {\n",
       "            background-color:  #ecd3c5;\n",
       "            color:  #000000;\n",
       "        }    #T_d1c2690c_fdcd_11e9_afd5_f48e38d38e7erow13_col12 {\n",
       "            background-color:  #f08b6e;\n",
       "            color:  #000000;\n",
       "        }    #T_d1c2690c_fdcd_11e9_afd5_f48e38d38e7erow13_col13 {\n",
       "            background-color:  #b40426;\n",
       "            color:  #f1f1f1;\n",
       "        }    #T_d1c2690c_fdcd_11e9_afd5_f48e38d38e7erow13_col14 {\n",
       "            background-color:  #f5a081;\n",
       "            color:  #000000;\n",
       "        }    #T_d1c2690c_fdcd_11e9_afd5_f48e38d38e7erow14_col0 {\n",
       "            background-color:  #3b4cc0;\n",
       "            color:  #f1f1f1;\n",
       "        }    #T_d1c2690c_fdcd_11e9_afd5_f48e38d38e7erow14_col1 {\n",
       "            background-color:  #3b4cc0;\n",
       "            color:  #f1f1f1;\n",
       "        }    #T_d1c2690c_fdcd_11e9_afd5_f48e38d38e7erow14_col2 {\n",
       "            background-color:  #3b4cc0;\n",
       "            color:  #f1f1f1;\n",
       "        }    #T_d1c2690c_fdcd_11e9_afd5_f48e38d38e7erow14_col3 {\n",
       "            background-color:  #3b4cc0;\n",
       "            color:  #f1f1f1;\n",
       "        }    #T_d1c2690c_fdcd_11e9_afd5_f48e38d38e7erow14_col4 {\n",
       "            background-color:  #4b64d5;\n",
       "            color:  #f1f1f1;\n",
       "        }    #T_d1c2690c_fdcd_11e9_afd5_f48e38d38e7erow14_col5 {\n",
       "            background-color:  #3b4cc0;\n",
       "            color:  #f1f1f1;\n",
       "        }    #T_d1c2690c_fdcd_11e9_afd5_f48e38d38e7erow14_col6 {\n",
       "            background-color:  #3b4cc0;\n",
       "            color:  #f1f1f1;\n",
       "        }    #T_d1c2690c_fdcd_11e9_afd5_f48e38d38e7erow14_col7 {\n",
       "            background-color:  #3b4cc0;\n",
       "            color:  #f1f1f1;\n",
       "        }    #T_d1c2690c_fdcd_11e9_afd5_f48e38d38e7erow14_col8 {\n",
       "            background-color:  #7093f3;\n",
       "            color:  #000000;\n",
       "        }    #T_d1c2690c_fdcd_11e9_afd5_f48e38d38e7erow14_col9 {\n",
       "            background-color:  #d3dbe7;\n",
       "            color:  #000000;\n",
       "        }    #T_d1c2690c_fdcd_11e9_afd5_f48e38d38e7erow14_col10 {\n",
       "            background-color:  #3b4cc0;\n",
       "            color:  #f1f1f1;\n",
       "        }    #T_d1c2690c_fdcd_11e9_afd5_f48e38d38e7erow14_col11 {\n",
       "            background-color:  #92b4fe;\n",
       "            color:  #000000;\n",
       "        }    #T_d1c2690c_fdcd_11e9_afd5_f48e38d38e7erow14_col12 {\n",
       "            background-color:  #d8dce2;\n",
       "            color:  #000000;\n",
       "        }    #T_d1c2690c_fdcd_11e9_afd5_f48e38d38e7erow14_col13 {\n",
       "            background-color:  #f7ac8e;\n",
       "            color:  #000000;\n",
       "        }    #T_d1c2690c_fdcd_11e9_afd5_f48e38d38e7erow14_col14 {\n",
       "            background-color:  #b40426;\n",
       "            color:  #f1f1f1;\n",
       "        }</style><table id=\"T_d1c2690c_fdcd_11e9_afd5_f48e38d38e7e\" ><thead>    <tr>        <th class=\"blank level0\" ></th>        <th class=\"col_heading level0 col0\" >TotalTimeStopped_p20</th>        <th class=\"col_heading level0 col1\" >TotalTimeStopped_p40</th>        <th class=\"col_heading level0 col2\" >TotalTimeStopped_p50</th>        <th class=\"col_heading level0 col3\" >TotalTimeStopped_p60</th>        <th class=\"col_heading level0 col4\" >TotalTimeStopped_p80</th>        <th class=\"col_heading level0 col5\" >TimeFromFirstStop_p20</th>        <th class=\"col_heading level0 col6\" >TimeFromFirstStop_p40</th>        <th class=\"col_heading level0 col7\" >TimeFromFirstStop_p50</th>        <th class=\"col_heading level0 col8\" >TimeFromFirstStop_p60</th>        <th class=\"col_heading level0 col9\" >TimeFromFirstStop_p80</th>        <th class=\"col_heading level0 col10\" >DistanceToFirstStop_p20</th>        <th class=\"col_heading level0 col11\" >DistanceToFirstStop_p40</th>        <th class=\"col_heading level0 col12\" >DistanceToFirstStop_p50</th>        <th class=\"col_heading level0 col13\" >DistanceToFirstStop_p60</th>        <th class=\"col_heading level0 col14\" >DistanceToFirstStop_p80</th>    </tr></thead><tbody>\n",
       "                <tr>\n",
       "                        <th id=\"T_d1c2690c_fdcd_11e9_afd5_f48e38d38e7elevel0_row0\" class=\"row_heading level0 row0\" >TotalTimeStopped_p20</th>\n",
       "                        <td id=\"T_d1c2690c_fdcd_11e9_afd5_f48e38d38e7erow0_col0\" class=\"data row0 col0\" >1</td>\n",
       "                        <td id=\"T_d1c2690c_fdcd_11e9_afd5_f48e38d38e7erow0_col1\" class=\"data row0 col1\" >0.78</td>\n",
       "                        <td id=\"T_d1c2690c_fdcd_11e9_afd5_f48e38d38e7erow0_col2\" class=\"data row0 col2\" >0.71</td>\n",
       "                        <td id=\"T_d1c2690c_fdcd_11e9_afd5_f48e38d38e7erow0_col3\" class=\"data row0 col3\" >0.64</td>\n",
       "                        <td id=\"T_d1c2690c_fdcd_11e9_afd5_f48e38d38e7erow0_col4\" class=\"data row0 col4\" >0.54</td>\n",
       "                        <td id=\"T_d1c2690c_fdcd_11e9_afd5_f48e38d38e7erow0_col5\" class=\"data row0 col5\" >0.94</td>\n",
       "                        <td id=\"T_d1c2690c_fdcd_11e9_afd5_f48e38d38e7erow0_col6\" class=\"data row0 col6\" >0.72</td>\n",
       "                        <td id=\"T_d1c2690c_fdcd_11e9_afd5_f48e38d38e7erow0_col7\" class=\"data row0 col7\" >0.66</td>\n",
       "                        <td id=\"T_d1c2690c_fdcd_11e9_afd5_f48e38d38e7erow0_col8\" class=\"data row0 col8\" >0.6</td>\n",
       "                        <td id=\"T_d1c2690c_fdcd_11e9_afd5_f48e38d38e7erow0_col9\" class=\"data row0 col9\" >0.52</td>\n",
       "                        <td id=\"T_d1c2690c_fdcd_11e9_afd5_f48e38d38e7erow0_col10\" class=\"data row0 col10\" >0.67</td>\n",
       "                        <td id=\"T_d1c2690c_fdcd_11e9_afd5_f48e38d38e7erow0_col11\" class=\"data row0 col11\" >0.46</td>\n",
       "                        <td id=\"T_d1c2690c_fdcd_11e9_afd5_f48e38d38e7erow0_col12\" class=\"data row0 col12\" >0.4</td>\n",
       "                        <td id=\"T_d1c2690c_fdcd_11e9_afd5_f48e38d38e7erow0_col13\" class=\"data row0 col13\" >0.35</td>\n",
       "                        <td id=\"T_d1c2690c_fdcd_11e9_afd5_f48e38d38e7erow0_col14\" class=\"data row0 col14\" >0.27</td>\n",
       "            </tr>\n",
       "            <tr>\n",
       "                        <th id=\"T_d1c2690c_fdcd_11e9_afd5_f48e38d38e7elevel0_row1\" class=\"row_heading level0 row1\" >TotalTimeStopped_p40</th>\n",
       "                        <td id=\"T_d1c2690c_fdcd_11e9_afd5_f48e38d38e7erow1_col0\" class=\"data row1 col0\" >0.78</td>\n",
       "                        <td id=\"T_d1c2690c_fdcd_11e9_afd5_f48e38d38e7erow1_col1\" class=\"data row1 col1\" >1</td>\n",
       "                        <td id=\"T_d1c2690c_fdcd_11e9_afd5_f48e38d38e7erow1_col2\" class=\"data row1 col2\" >0.94</td>\n",
       "                        <td id=\"T_d1c2690c_fdcd_11e9_afd5_f48e38d38e7erow1_col3\" class=\"data row1 col3\" >0.86</td>\n",
       "                        <td id=\"T_d1c2690c_fdcd_11e9_afd5_f48e38d38e7erow1_col4\" class=\"data row1 col4\" >0.73</td>\n",
       "                        <td id=\"T_d1c2690c_fdcd_11e9_afd5_f48e38d38e7erow1_col5\" class=\"data row1 col5\" >0.78</td>\n",
       "                        <td id=\"T_d1c2690c_fdcd_11e9_afd5_f48e38d38e7erow1_col6\" class=\"data row1 col6\" >0.94</td>\n",
       "                        <td id=\"T_d1c2690c_fdcd_11e9_afd5_f48e38d38e7erow1_col7\" class=\"data row1 col7\" >0.87</td>\n",
       "                        <td id=\"T_d1c2690c_fdcd_11e9_afd5_f48e38d38e7erow1_col8\" class=\"data row1 col8\" >0.8</td>\n",
       "                        <td id=\"T_d1c2690c_fdcd_11e9_afd5_f48e38d38e7erow1_col9\" class=\"data row1 col9\" >0.7</td>\n",
       "                        <td id=\"T_d1c2690c_fdcd_11e9_afd5_f48e38d38e7erow1_col10\" class=\"data row1 col10\" >0.57</td>\n",
       "                        <td id=\"T_d1c2690c_fdcd_11e9_afd5_f48e38d38e7erow1_col11\" class=\"data row1 col11\" >0.59</td>\n",
       "                        <td id=\"T_d1c2690c_fdcd_11e9_afd5_f48e38d38e7erow1_col12\" class=\"data row1 col12\" >0.52</td>\n",
       "                        <td id=\"T_d1c2690c_fdcd_11e9_afd5_f48e38d38e7erow1_col13\" class=\"data row1 col13\" >0.45</td>\n",
       "                        <td id=\"T_d1c2690c_fdcd_11e9_afd5_f48e38d38e7erow1_col14\" class=\"data row1 col14\" >0.36</td>\n",
       "            </tr>\n",
       "            <tr>\n",
       "                        <th id=\"T_d1c2690c_fdcd_11e9_afd5_f48e38d38e7elevel0_row2\" class=\"row_heading level0 row2\" >TotalTimeStopped_p50</th>\n",
       "                        <td id=\"T_d1c2690c_fdcd_11e9_afd5_f48e38d38e7erow2_col0\" class=\"data row2 col0\" >0.71</td>\n",
       "                        <td id=\"T_d1c2690c_fdcd_11e9_afd5_f48e38d38e7erow2_col1\" class=\"data row2 col1\" >0.94</td>\n",
       "                        <td id=\"T_d1c2690c_fdcd_11e9_afd5_f48e38d38e7erow2_col2\" class=\"data row2 col2\" >1</td>\n",
       "                        <td id=\"T_d1c2690c_fdcd_11e9_afd5_f48e38d38e7erow2_col3\" class=\"data row2 col3\" >0.92</td>\n",
       "                        <td id=\"T_d1c2690c_fdcd_11e9_afd5_f48e38d38e7erow2_col4\" class=\"data row2 col4\" >0.8</td>\n",
       "                        <td id=\"T_d1c2690c_fdcd_11e9_afd5_f48e38d38e7erow2_col5\" class=\"data row2 col5\" >0.71</td>\n",
       "                        <td id=\"T_d1c2690c_fdcd_11e9_afd5_f48e38d38e7erow2_col6\" class=\"data row2 col6\" >0.9</td>\n",
       "                        <td id=\"T_d1c2690c_fdcd_11e9_afd5_f48e38d38e7erow2_col7\" class=\"data row2 col7\" >0.94</td>\n",
       "                        <td id=\"T_d1c2690c_fdcd_11e9_afd5_f48e38d38e7erow2_col8\" class=\"data row2 col8\" >0.86</td>\n",
       "                        <td id=\"T_d1c2690c_fdcd_11e9_afd5_f48e38d38e7erow2_col9\" class=\"data row2 col9\" >0.75</td>\n",
       "                        <td id=\"T_d1c2690c_fdcd_11e9_afd5_f48e38d38e7erow2_col10\" class=\"data row2 col10\" >0.53</td>\n",
       "                        <td id=\"T_d1c2690c_fdcd_11e9_afd5_f48e38d38e7erow2_col11\" class=\"data row2 col11\" >0.57</td>\n",
       "                        <td id=\"T_d1c2690c_fdcd_11e9_afd5_f48e38d38e7erow2_col12\" class=\"data row2 col12\" >0.56</td>\n",
       "                        <td id=\"T_d1c2690c_fdcd_11e9_afd5_f48e38d38e7erow2_col13\" class=\"data row2 col13\" >0.48</td>\n",
       "                        <td id=\"T_d1c2690c_fdcd_11e9_afd5_f48e38d38e7erow2_col14\" class=\"data row2 col14\" >0.39</td>\n",
       "            </tr>\n",
       "            <tr>\n",
       "                        <th id=\"T_d1c2690c_fdcd_11e9_afd5_f48e38d38e7elevel0_row3\" class=\"row_heading level0 row3\" >TotalTimeStopped_p60</th>\n",
       "                        <td id=\"T_d1c2690c_fdcd_11e9_afd5_f48e38d38e7erow3_col0\" class=\"data row3 col0\" >0.64</td>\n",
       "                        <td id=\"T_d1c2690c_fdcd_11e9_afd5_f48e38d38e7erow3_col1\" class=\"data row3 col1\" >0.86</td>\n",
       "                        <td id=\"T_d1c2690c_fdcd_11e9_afd5_f48e38d38e7erow3_col2\" class=\"data row3 col2\" >0.92</td>\n",
       "                        <td id=\"T_d1c2690c_fdcd_11e9_afd5_f48e38d38e7erow3_col3\" class=\"data row3 col3\" >1</td>\n",
       "                        <td id=\"T_d1c2690c_fdcd_11e9_afd5_f48e38d38e7erow3_col4\" class=\"data row3 col4\" >0.87</td>\n",
       "                        <td id=\"T_d1c2690c_fdcd_11e9_afd5_f48e38d38e7erow3_col5\" class=\"data row3 col5\" >0.64</td>\n",
       "                        <td id=\"T_d1c2690c_fdcd_11e9_afd5_f48e38d38e7erow3_col6\" class=\"data row3 col6\" >0.84</td>\n",
       "                        <td id=\"T_d1c2690c_fdcd_11e9_afd5_f48e38d38e7erow3_col7\" class=\"data row3 col7\" >0.89</td>\n",
       "                        <td id=\"T_d1c2690c_fdcd_11e9_afd5_f48e38d38e7erow3_col8\" class=\"data row3 col8\" >0.93</td>\n",
       "                        <td id=\"T_d1c2690c_fdcd_11e9_afd5_f48e38d38e7erow3_col9\" class=\"data row3 col9\" >0.81</td>\n",
       "                        <td id=\"T_d1c2690c_fdcd_11e9_afd5_f48e38d38e7erow3_col10\" class=\"data row3 col10\" >0.48</td>\n",
       "                        <td id=\"T_d1c2690c_fdcd_11e9_afd5_f48e38d38e7erow3_col11\" class=\"data row3 col11\" >0.54</td>\n",
       "                        <td id=\"T_d1c2690c_fdcd_11e9_afd5_f48e38d38e7erow3_col12\" class=\"data row3 col12\" >0.54</td>\n",
       "                        <td id=\"T_d1c2690c_fdcd_11e9_afd5_f48e38d38e7erow3_col13\" class=\"data row3 col13\" >0.51</td>\n",
       "                        <td id=\"T_d1c2690c_fdcd_11e9_afd5_f48e38d38e7erow3_col14\" class=\"data row3 col14\" >0.41</td>\n",
       "            </tr>\n",
       "            <tr>\n",
       "                        <th id=\"T_d1c2690c_fdcd_11e9_afd5_f48e38d38e7elevel0_row4\" class=\"row_heading level0 row4\" >TotalTimeStopped_p80</th>\n",
       "                        <td id=\"T_d1c2690c_fdcd_11e9_afd5_f48e38d38e7erow4_col0\" class=\"data row4 col0\" >0.54</td>\n",
       "                        <td id=\"T_d1c2690c_fdcd_11e9_afd5_f48e38d38e7erow4_col1\" class=\"data row4 col1\" >0.73</td>\n",
       "                        <td id=\"T_d1c2690c_fdcd_11e9_afd5_f48e38d38e7erow4_col2\" class=\"data row4 col2\" >0.8</td>\n",
       "                        <td id=\"T_d1c2690c_fdcd_11e9_afd5_f48e38d38e7erow4_col3\" class=\"data row4 col3\" >0.87</td>\n",
       "                        <td id=\"T_d1c2690c_fdcd_11e9_afd5_f48e38d38e7erow4_col4\" class=\"data row4 col4\" >1</td>\n",
       "                        <td id=\"T_d1c2690c_fdcd_11e9_afd5_f48e38d38e7erow4_col5\" class=\"data row4 col5\" >0.54</td>\n",
       "                        <td id=\"T_d1c2690c_fdcd_11e9_afd5_f48e38d38e7erow4_col6\" class=\"data row4 col6\" >0.72</td>\n",
       "                        <td id=\"T_d1c2690c_fdcd_11e9_afd5_f48e38d38e7erow4_col7\" class=\"data row4 col7\" >0.78</td>\n",
       "                        <td id=\"T_d1c2690c_fdcd_11e9_afd5_f48e38d38e7erow4_col8\" class=\"data row4 col8\" >0.84</td>\n",
       "                        <td id=\"T_d1c2690c_fdcd_11e9_afd5_f48e38d38e7erow4_col9\" class=\"data row4 col9\" >0.91</td>\n",
       "                        <td id=\"T_d1c2690c_fdcd_11e9_afd5_f48e38d38e7erow4_col10\" class=\"data row4 col10\" >0.41</td>\n",
       "                        <td id=\"T_d1c2690c_fdcd_11e9_afd5_f48e38d38e7erow4_col11\" class=\"data row4 col11\" >0.47</td>\n",
       "                        <td id=\"T_d1c2690c_fdcd_11e9_afd5_f48e38d38e7erow4_col12\" class=\"data row4 col12\" >0.48</td>\n",
       "                        <td id=\"T_d1c2690c_fdcd_11e9_afd5_f48e38d38e7erow4_col13\" class=\"data row4 col13\" >0.47</td>\n",
       "                        <td id=\"T_d1c2690c_fdcd_11e9_afd5_f48e38d38e7erow4_col14\" class=\"data row4 col14\" >0.44</td>\n",
       "            </tr>\n",
       "            <tr>\n",
       "                        <th id=\"T_d1c2690c_fdcd_11e9_afd5_f48e38d38e7elevel0_row5\" class=\"row_heading level0 row5\" >TimeFromFirstStop_p20</th>\n",
       "                        <td id=\"T_d1c2690c_fdcd_11e9_afd5_f48e38d38e7erow5_col0\" class=\"data row5 col0\" >0.94</td>\n",
       "                        <td id=\"T_d1c2690c_fdcd_11e9_afd5_f48e38d38e7erow5_col1\" class=\"data row5 col1\" >0.78</td>\n",
       "                        <td id=\"T_d1c2690c_fdcd_11e9_afd5_f48e38d38e7erow5_col2\" class=\"data row5 col2\" >0.71</td>\n",
       "                        <td id=\"T_d1c2690c_fdcd_11e9_afd5_f48e38d38e7erow5_col3\" class=\"data row5 col3\" >0.64</td>\n",
       "                        <td id=\"T_d1c2690c_fdcd_11e9_afd5_f48e38d38e7erow5_col4\" class=\"data row5 col4\" >0.54</td>\n",
       "                        <td id=\"T_d1c2690c_fdcd_11e9_afd5_f48e38d38e7erow5_col5\" class=\"data row5 col5\" >1</td>\n",
       "                        <td id=\"T_d1c2690c_fdcd_11e9_afd5_f48e38d38e7erow5_col6\" class=\"data row5 col6\" >0.77</td>\n",
       "                        <td id=\"T_d1c2690c_fdcd_11e9_afd5_f48e38d38e7erow5_col7\" class=\"data row5 col7\" >0.7</td>\n",
       "                        <td id=\"T_d1c2690c_fdcd_11e9_afd5_f48e38d38e7erow5_col8\" class=\"data row5 col8\" >0.64</td>\n",
       "                        <td id=\"T_d1c2690c_fdcd_11e9_afd5_f48e38d38e7erow5_col9\" class=\"data row5 col9\" >0.56</td>\n",
       "                        <td id=\"T_d1c2690c_fdcd_11e9_afd5_f48e38d38e7erow5_col10\" class=\"data row5 col10\" >0.82</td>\n",
       "                        <td id=\"T_d1c2690c_fdcd_11e9_afd5_f48e38d38e7erow5_col11\" class=\"data row5 col11\" >0.58</td>\n",
       "                        <td id=\"T_d1c2690c_fdcd_11e9_afd5_f48e38d38e7erow5_col12\" class=\"data row5 col12\" >0.51</td>\n",
       "                        <td id=\"T_d1c2690c_fdcd_11e9_afd5_f48e38d38e7erow5_col13\" class=\"data row5 col13\" >0.45</td>\n",
       "                        <td id=\"T_d1c2690c_fdcd_11e9_afd5_f48e38d38e7erow5_col14\" class=\"data row5 col14\" >0.35</td>\n",
       "            </tr>\n",
       "            <tr>\n",
       "                        <th id=\"T_d1c2690c_fdcd_11e9_afd5_f48e38d38e7elevel0_row6\" class=\"row_heading level0 row6\" >TimeFromFirstStop_p40</th>\n",
       "                        <td id=\"T_d1c2690c_fdcd_11e9_afd5_f48e38d38e7erow6_col0\" class=\"data row6 col0\" >0.72</td>\n",
       "                        <td id=\"T_d1c2690c_fdcd_11e9_afd5_f48e38d38e7erow6_col1\" class=\"data row6 col1\" >0.94</td>\n",
       "                        <td id=\"T_d1c2690c_fdcd_11e9_afd5_f48e38d38e7erow6_col2\" class=\"data row6 col2\" >0.9</td>\n",
       "                        <td id=\"T_d1c2690c_fdcd_11e9_afd5_f48e38d38e7erow6_col3\" class=\"data row6 col3\" >0.84</td>\n",
       "                        <td id=\"T_d1c2690c_fdcd_11e9_afd5_f48e38d38e7erow6_col4\" class=\"data row6 col4\" >0.72</td>\n",
       "                        <td id=\"T_d1c2690c_fdcd_11e9_afd5_f48e38d38e7erow6_col5\" class=\"data row6 col5\" >0.77</td>\n",
       "                        <td id=\"T_d1c2690c_fdcd_11e9_afd5_f48e38d38e7erow6_col6\" class=\"data row6 col6\" >1</td>\n",
       "                        <td id=\"T_d1c2690c_fdcd_11e9_afd5_f48e38d38e7erow6_col7\" class=\"data row6 col7\" >0.93</td>\n",
       "                        <td id=\"T_d1c2690c_fdcd_11e9_afd5_f48e38d38e7erow6_col8\" class=\"data row6 col8\" >0.85</td>\n",
       "                        <td id=\"T_d1c2690c_fdcd_11e9_afd5_f48e38d38e7erow6_col9\" class=\"data row6 col9\" >0.75</td>\n",
       "                        <td id=\"T_d1c2690c_fdcd_11e9_afd5_f48e38d38e7erow6_col10\" class=\"data row6 col10\" >0.65</td>\n",
       "                        <td id=\"T_d1c2690c_fdcd_11e9_afd5_f48e38d38e7erow6_col11\" class=\"data row6 col11\" >0.78</td>\n",
       "                        <td id=\"T_d1c2690c_fdcd_11e9_afd5_f48e38d38e7erow6_col12\" class=\"data row6 col12\" >0.7</td>\n",
       "                        <td id=\"T_d1c2690c_fdcd_11e9_afd5_f48e38d38e7erow6_col13\" class=\"data row6 col13\" >0.62</td>\n",
       "                        <td id=\"T_d1c2690c_fdcd_11e9_afd5_f48e38d38e7erow6_col14\" class=\"data row6 col14\" >0.5</td>\n",
       "            </tr>\n",
       "            <tr>\n",
       "                        <th id=\"T_d1c2690c_fdcd_11e9_afd5_f48e38d38e7elevel0_row7\" class=\"row_heading level0 row7\" >TimeFromFirstStop_p50</th>\n",
       "                        <td id=\"T_d1c2690c_fdcd_11e9_afd5_f48e38d38e7erow7_col0\" class=\"data row7 col0\" >0.66</td>\n",
       "                        <td id=\"T_d1c2690c_fdcd_11e9_afd5_f48e38d38e7erow7_col1\" class=\"data row7 col1\" >0.87</td>\n",
       "                        <td id=\"T_d1c2690c_fdcd_11e9_afd5_f48e38d38e7erow7_col2\" class=\"data row7 col2\" >0.94</td>\n",
       "                        <td id=\"T_d1c2690c_fdcd_11e9_afd5_f48e38d38e7erow7_col3\" class=\"data row7 col3\" >0.89</td>\n",
       "                        <td id=\"T_d1c2690c_fdcd_11e9_afd5_f48e38d38e7erow7_col4\" class=\"data row7 col4\" >0.78</td>\n",
       "                        <td id=\"T_d1c2690c_fdcd_11e9_afd5_f48e38d38e7erow7_col5\" class=\"data row7 col5\" >0.7</td>\n",
       "                        <td id=\"T_d1c2690c_fdcd_11e9_afd5_f48e38d38e7erow7_col6\" class=\"data row7 col6\" >0.93</td>\n",
       "                        <td id=\"T_d1c2690c_fdcd_11e9_afd5_f48e38d38e7erow7_col7\" class=\"data row7 col7\" >1</td>\n",
       "                        <td id=\"T_d1c2690c_fdcd_11e9_afd5_f48e38d38e7erow7_col8\" class=\"data row7 col8\" >0.92</td>\n",
       "                        <td id=\"T_d1c2690c_fdcd_11e9_afd5_f48e38d38e7erow7_col9\" class=\"data row7 col9\" >0.8</td>\n",
       "                        <td id=\"T_d1c2690c_fdcd_11e9_afd5_f48e38d38e7erow7_col10\" class=\"data row7 col10\" >0.59</td>\n",
       "                        <td id=\"T_d1c2690c_fdcd_11e9_afd5_f48e38d38e7erow7_col11\" class=\"data row7 col11\" >0.73</td>\n",
       "                        <td id=\"T_d1c2690c_fdcd_11e9_afd5_f48e38d38e7erow7_col12\" class=\"data row7 col12\" >0.76</td>\n",
       "                        <td id=\"T_d1c2690c_fdcd_11e9_afd5_f48e38d38e7erow7_col13\" class=\"data row7 col13\" >0.68</td>\n",
       "                        <td id=\"T_d1c2690c_fdcd_11e9_afd5_f48e38d38e7erow7_col14\" class=\"data row7 col14\" >0.55</td>\n",
       "            </tr>\n",
       "            <tr>\n",
       "                        <th id=\"T_d1c2690c_fdcd_11e9_afd5_f48e38d38e7elevel0_row8\" class=\"row_heading level0 row8\" >TimeFromFirstStop_p60</th>\n",
       "                        <td id=\"T_d1c2690c_fdcd_11e9_afd5_f48e38d38e7erow8_col0\" class=\"data row8 col0\" >0.6</td>\n",
       "                        <td id=\"T_d1c2690c_fdcd_11e9_afd5_f48e38d38e7erow8_col1\" class=\"data row8 col1\" >0.8</td>\n",
       "                        <td id=\"T_d1c2690c_fdcd_11e9_afd5_f48e38d38e7erow8_col2\" class=\"data row8 col2\" >0.86</td>\n",
       "                        <td id=\"T_d1c2690c_fdcd_11e9_afd5_f48e38d38e7erow8_col3\" class=\"data row8 col3\" >0.93</td>\n",
       "                        <td id=\"T_d1c2690c_fdcd_11e9_afd5_f48e38d38e7erow8_col4\" class=\"data row8 col4\" >0.84</td>\n",
       "                        <td id=\"T_d1c2690c_fdcd_11e9_afd5_f48e38d38e7erow8_col5\" class=\"data row8 col5\" >0.64</td>\n",
       "                        <td id=\"T_d1c2690c_fdcd_11e9_afd5_f48e38d38e7erow8_col6\" class=\"data row8 col6\" >0.85</td>\n",
       "                        <td id=\"T_d1c2690c_fdcd_11e9_afd5_f48e38d38e7erow8_col7\" class=\"data row8 col7\" >0.92</td>\n",
       "                        <td id=\"T_d1c2690c_fdcd_11e9_afd5_f48e38d38e7erow8_col8\" class=\"data row8 col8\" >1</td>\n",
       "                        <td id=\"T_d1c2690c_fdcd_11e9_afd5_f48e38d38e7erow8_col9\" class=\"data row8 col9\" >0.88</td>\n",
       "                        <td id=\"T_d1c2690c_fdcd_11e9_afd5_f48e38d38e7erow8_col10\" class=\"data row8 col10\" >0.54</td>\n",
       "                        <td id=\"T_d1c2690c_fdcd_11e9_afd5_f48e38d38e7erow8_col11\" class=\"data row8 col11\" >0.68</td>\n",
       "                        <td id=\"T_d1c2690c_fdcd_11e9_afd5_f48e38d38e7erow8_col12\" class=\"data row8 col12\" >0.72</td>\n",
       "                        <td id=\"T_d1c2690c_fdcd_11e9_afd5_f48e38d38e7erow8_col13\" class=\"data row8 col13\" >0.74</td>\n",
       "                        <td id=\"T_d1c2690c_fdcd_11e9_afd5_f48e38d38e7erow8_col14\" class=\"data row8 col14\" >0.62</td>\n",
       "            </tr>\n",
       "            <tr>\n",
       "                        <th id=\"T_d1c2690c_fdcd_11e9_afd5_f48e38d38e7elevel0_row9\" class=\"row_heading level0 row9\" >TimeFromFirstStop_p80</th>\n",
       "                        <td id=\"T_d1c2690c_fdcd_11e9_afd5_f48e38d38e7erow9_col0\" class=\"data row9 col0\" >0.52</td>\n",
       "                        <td id=\"T_d1c2690c_fdcd_11e9_afd5_f48e38d38e7erow9_col1\" class=\"data row9 col1\" >0.7</td>\n",
       "                        <td id=\"T_d1c2690c_fdcd_11e9_afd5_f48e38d38e7erow9_col2\" class=\"data row9 col2\" >0.75</td>\n",
       "                        <td id=\"T_d1c2690c_fdcd_11e9_afd5_f48e38d38e7erow9_col3\" class=\"data row9 col3\" >0.81</td>\n",
       "                        <td id=\"T_d1c2690c_fdcd_11e9_afd5_f48e38d38e7erow9_col4\" class=\"data row9 col4\" >0.91</td>\n",
       "                        <td id=\"T_d1c2690c_fdcd_11e9_afd5_f48e38d38e7erow9_col5\" class=\"data row9 col5\" >0.56</td>\n",
       "                        <td id=\"T_d1c2690c_fdcd_11e9_afd5_f48e38d38e7erow9_col6\" class=\"data row9 col6\" >0.75</td>\n",
       "                        <td id=\"T_d1c2690c_fdcd_11e9_afd5_f48e38d38e7erow9_col7\" class=\"data row9 col7\" >0.8</td>\n",
       "                        <td id=\"T_d1c2690c_fdcd_11e9_afd5_f48e38d38e7erow9_col8\" class=\"data row9 col8\" >0.88</td>\n",
       "                        <td id=\"T_d1c2690c_fdcd_11e9_afd5_f48e38d38e7erow9_col9\" class=\"data row9 col9\" >1</td>\n",
       "                        <td id=\"T_d1c2690c_fdcd_11e9_afd5_f48e38d38e7erow9_col10\" class=\"data row9 col10\" >0.46</td>\n",
       "                        <td id=\"T_d1c2690c_fdcd_11e9_afd5_f48e38d38e7erow9_col11\" class=\"data row9 col11\" >0.59</td>\n",
       "                        <td id=\"T_d1c2690c_fdcd_11e9_afd5_f48e38d38e7erow9_col12\" class=\"data row9 col12\" >0.63</td>\n",
       "                        <td id=\"T_d1c2690c_fdcd_11e9_afd5_f48e38d38e7erow9_col13\" class=\"data row9 col13\" >0.67</td>\n",
       "                        <td id=\"T_d1c2690c_fdcd_11e9_afd5_f48e38d38e7erow9_col14\" class=\"data row9 col14\" >0.71</td>\n",
       "            </tr>\n",
       "            <tr>\n",
       "                        <th id=\"T_d1c2690c_fdcd_11e9_afd5_f48e38d38e7elevel0_row10\" class=\"row_heading level0 row10\" >DistanceToFirstStop_p20</th>\n",
       "                        <td id=\"T_d1c2690c_fdcd_11e9_afd5_f48e38d38e7erow10_col0\" class=\"data row10 col0\" >0.67</td>\n",
       "                        <td id=\"T_d1c2690c_fdcd_11e9_afd5_f48e38d38e7erow10_col1\" class=\"data row10 col1\" >0.57</td>\n",
       "                        <td id=\"T_d1c2690c_fdcd_11e9_afd5_f48e38d38e7erow10_col2\" class=\"data row10 col2\" >0.53</td>\n",
       "                        <td id=\"T_d1c2690c_fdcd_11e9_afd5_f48e38d38e7erow10_col3\" class=\"data row10 col3\" >0.48</td>\n",
       "                        <td id=\"T_d1c2690c_fdcd_11e9_afd5_f48e38d38e7erow10_col4\" class=\"data row10 col4\" >0.41</td>\n",
       "                        <td id=\"T_d1c2690c_fdcd_11e9_afd5_f48e38d38e7erow10_col5\" class=\"data row10 col5\" >0.82</td>\n",
       "                        <td id=\"T_d1c2690c_fdcd_11e9_afd5_f48e38d38e7erow10_col6\" class=\"data row10 col6\" >0.65</td>\n",
       "                        <td id=\"T_d1c2690c_fdcd_11e9_afd5_f48e38d38e7erow10_col7\" class=\"data row10 col7\" >0.59</td>\n",
       "                        <td id=\"T_d1c2690c_fdcd_11e9_afd5_f48e38d38e7erow10_col8\" class=\"data row10 col8\" >0.54</td>\n",
       "                        <td id=\"T_d1c2690c_fdcd_11e9_afd5_f48e38d38e7erow10_col9\" class=\"data row10 col9\" >0.46</td>\n",
       "                        <td id=\"T_d1c2690c_fdcd_11e9_afd5_f48e38d38e7erow10_col10\" class=\"data row10 col10\" >1</td>\n",
       "                        <td id=\"T_d1c2690c_fdcd_11e9_afd5_f48e38d38e7erow10_col11\" class=\"data row10 col11\" >0.67</td>\n",
       "                        <td id=\"T_d1c2690c_fdcd_11e9_afd5_f48e38d38e7erow10_col12\" class=\"data row10 col12\" >0.58</td>\n",
       "                        <td id=\"T_d1c2690c_fdcd_11e9_afd5_f48e38d38e7erow10_col13\" class=\"data row10 col13\" >0.5</td>\n",
       "                        <td id=\"T_d1c2690c_fdcd_11e9_afd5_f48e38d38e7erow10_col14\" class=\"data row10 col14\" >0.39</td>\n",
       "            </tr>\n",
       "            <tr>\n",
       "                        <th id=\"T_d1c2690c_fdcd_11e9_afd5_f48e38d38e7elevel0_row11\" class=\"row_heading level0 row11\" >DistanceToFirstStop_p40</th>\n",
       "                        <td id=\"T_d1c2690c_fdcd_11e9_afd5_f48e38d38e7erow11_col0\" class=\"data row11 col0\" >0.46</td>\n",
       "                        <td id=\"T_d1c2690c_fdcd_11e9_afd5_f48e38d38e7erow11_col1\" class=\"data row11 col1\" >0.59</td>\n",
       "                        <td id=\"T_d1c2690c_fdcd_11e9_afd5_f48e38d38e7erow11_col2\" class=\"data row11 col2\" >0.57</td>\n",
       "                        <td id=\"T_d1c2690c_fdcd_11e9_afd5_f48e38d38e7erow11_col3\" class=\"data row11 col3\" >0.54</td>\n",
       "                        <td id=\"T_d1c2690c_fdcd_11e9_afd5_f48e38d38e7erow11_col4\" class=\"data row11 col4\" >0.47</td>\n",
       "                        <td id=\"T_d1c2690c_fdcd_11e9_afd5_f48e38d38e7erow11_col5\" class=\"data row11 col5\" >0.58</td>\n",
       "                        <td id=\"T_d1c2690c_fdcd_11e9_afd5_f48e38d38e7erow11_col6\" class=\"data row11 col6\" >0.78</td>\n",
       "                        <td id=\"T_d1c2690c_fdcd_11e9_afd5_f48e38d38e7erow11_col7\" class=\"data row11 col7\" >0.73</td>\n",
       "                        <td id=\"T_d1c2690c_fdcd_11e9_afd5_f48e38d38e7erow11_col8\" class=\"data row11 col8\" >0.68</td>\n",
       "                        <td id=\"T_d1c2690c_fdcd_11e9_afd5_f48e38d38e7erow11_col9\" class=\"data row11 col9\" >0.59</td>\n",
       "                        <td id=\"T_d1c2690c_fdcd_11e9_afd5_f48e38d38e7erow11_col10\" class=\"data row11 col10\" >0.67</td>\n",
       "                        <td id=\"T_d1c2690c_fdcd_11e9_afd5_f48e38d38e7erow11_col11\" class=\"data row11 col11\" >1</td>\n",
       "                        <td id=\"T_d1c2690c_fdcd_11e9_afd5_f48e38d38e7erow11_col12\" class=\"data row11 col12\" >0.89</td>\n",
       "                        <td id=\"T_d1c2690c_fdcd_11e9_afd5_f48e38d38e7erow11_col13\" class=\"data row11 col13\" >0.76</td>\n",
       "                        <td id=\"T_d1c2690c_fdcd_11e9_afd5_f48e38d38e7erow11_col14\" class=\"data row11 col14\" >0.6</td>\n",
       "            </tr>\n",
       "            <tr>\n",
       "                        <th id=\"T_d1c2690c_fdcd_11e9_afd5_f48e38d38e7elevel0_row12\" class=\"row_heading level0 row12\" >DistanceToFirstStop_p50</th>\n",
       "                        <td id=\"T_d1c2690c_fdcd_11e9_afd5_f48e38d38e7erow12_col0\" class=\"data row12 col0\" >0.4</td>\n",
       "                        <td id=\"T_d1c2690c_fdcd_11e9_afd5_f48e38d38e7erow12_col1\" class=\"data row12 col1\" >0.52</td>\n",
       "                        <td id=\"T_d1c2690c_fdcd_11e9_afd5_f48e38d38e7erow12_col2\" class=\"data row12 col2\" >0.56</td>\n",
       "                        <td id=\"T_d1c2690c_fdcd_11e9_afd5_f48e38d38e7erow12_col3\" class=\"data row12 col3\" >0.54</td>\n",
       "                        <td id=\"T_d1c2690c_fdcd_11e9_afd5_f48e38d38e7erow12_col4\" class=\"data row12 col4\" >0.48</td>\n",
       "                        <td id=\"T_d1c2690c_fdcd_11e9_afd5_f48e38d38e7erow12_col5\" class=\"data row12 col5\" >0.51</td>\n",
       "                        <td id=\"T_d1c2690c_fdcd_11e9_afd5_f48e38d38e7erow12_col6\" class=\"data row12 col6\" >0.7</td>\n",
       "                        <td id=\"T_d1c2690c_fdcd_11e9_afd5_f48e38d38e7erow12_col7\" class=\"data row12 col7\" >0.76</td>\n",
       "                        <td id=\"T_d1c2690c_fdcd_11e9_afd5_f48e38d38e7erow12_col8\" class=\"data row12 col8\" >0.72</td>\n",
       "                        <td id=\"T_d1c2690c_fdcd_11e9_afd5_f48e38d38e7erow12_col9\" class=\"data row12 col9\" >0.63</td>\n",
       "                        <td id=\"T_d1c2690c_fdcd_11e9_afd5_f48e38d38e7erow12_col10\" class=\"data row12 col10\" >0.58</td>\n",
       "                        <td id=\"T_d1c2690c_fdcd_11e9_afd5_f48e38d38e7erow12_col11\" class=\"data row12 col11\" >0.89</td>\n",
       "                        <td id=\"T_d1c2690c_fdcd_11e9_afd5_f48e38d38e7erow12_col12\" class=\"data row12 col12\" >1</td>\n",
       "                        <td id=\"T_d1c2690c_fdcd_11e9_afd5_f48e38d38e7erow12_col13\" class=\"data row12 col13\" >0.87</td>\n",
       "                        <td id=\"T_d1c2690c_fdcd_11e9_afd5_f48e38d38e7erow12_col14\" class=\"data row12 col14\" >0.69</td>\n",
       "            </tr>\n",
       "            <tr>\n",
       "                        <th id=\"T_d1c2690c_fdcd_11e9_afd5_f48e38d38e7elevel0_row13\" class=\"row_heading level0 row13\" >DistanceToFirstStop_p60</th>\n",
       "                        <td id=\"T_d1c2690c_fdcd_11e9_afd5_f48e38d38e7erow13_col0\" class=\"data row13 col0\" >0.35</td>\n",
       "                        <td id=\"T_d1c2690c_fdcd_11e9_afd5_f48e38d38e7erow13_col1\" class=\"data row13 col1\" >0.45</td>\n",
       "                        <td id=\"T_d1c2690c_fdcd_11e9_afd5_f48e38d38e7erow13_col2\" class=\"data row13 col2\" >0.48</td>\n",
       "                        <td id=\"T_d1c2690c_fdcd_11e9_afd5_f48e38d38e7erow13_col3\" class=\"data row13 col3\" >0.51</td>\n",
       "                        <td id=\"T_d1c2690c_fdcd_11e9_afd5_f48e38d38e7erow13_col4\" class=\"data row13 col4\" >0.47</td>\n",
       "                        <td id=\"T_d1c2690c_fdcd_11e9_afd5_f48e38d38e7erow13_col5\" class=\"data row13 col5\" >0.45</td>\n",
       "                        <td id=\"T_d1c2690c_fdcd_11e9_afd5_f48e38d38e7erow13_col6\" class=\"data row13 col6\" >0.62</td>\n",
       "                        <td id=\"T_d1c2690c_fdcd_11e9_afd5_f48e38d38e7erow13_col7\" class=\"data row13 col7\" >0.68</td>\n",
       "                        <td id=\"T_d1c2690c_fdcd_11e9_afd5_f48e38d38e7erow13_col8\" class=\"data row13 col8\" >0.74</td>\n",
       "                        <td id=\"T_d1c2690c_fdcd_11e9_afd5_f48e38d38e7erow13_col9\" class=\"data row13 col9\" >0.67</td>\n",
       "                        <td id=\"T_d1c2690c_fdcd_11e9_afd5_f48e38d38e7erow13_col10\" class=\"data row13 col10\" >0.5</td>\n",
       "                        <td id=\"T_d1c2690c_fdcd_11e9_afd5_f48e38d38e7erow13_col11\" class=\"data row13 col11\" >0.76</td>\n",
       "                        <td id=\"T_d1c2690c_fdcd_11e9_afd5_f48e38d38e7erow13_col12\" class=\"data row13 col12\" >0.87</td>\n",
       "                        <td id=\"T_d1c2690c_fdcd_11e9_afd5_f48e38d38e7erow13_col13\" class=\"data row13 col13\" >1</td>\n",
       "                        <td id=\"T_d1c2690c_fdcd_11e9_afd5_f48e38d38e7erow13_col14\" class=\"data row13 col14\" >0.81</td>\n",
       "            </tr>\n",
       "            <tr>\n",
       "                        <th id=\"T_d1c2690c_fdcd_11e9_afd5_f48e38d38e7elevel0_row14\" class=\"row_heading level0 row14\" >DistanceToFirstStop_p80</th>\n",
       "                        <td id=\"T_d1c2690c_fdcd_11e9_afd5_f48e38d38e7erow14_col0\" class=\"data row14 col0\" >0.27</td>\n",
       "                        <td id=\"T_d1c2690c_fdcd_11e9_afd5_f48e38d38e7erow14_col1\" class=\"data row14 col1\" >0.36</td>\n",
       "                        <td id=\"T_d1c2690c_fdcd_11e9_afd5_f48e38d38e7erow14_col2\" class=\"data row14 col2\" >0.39</td>\n",
       "                        <td id=\"T_d1c2690c_fdcd_11e9_afd5_f48e38d38e7erow14_col3\" class=\"data row14 col3\" >0.41</td>\n",
       "                        <td id=\"T_d1c2690c_fdcd_11e9_afd5_f48e38d38e7erow14_col4\" class=\"data row14 col4\" >0.44</td>\n",
       "                        <td id=\"T_d1c2690c_fdcd_11e9_afd5_f48e38d38e7erow14_col5\" class=\"data row14 col5\" >0.35</td>\n",
       "                        <td id=\"T_d1c2690c_fdcd_11e9_afd5_f48e38d38e7erow14_col6\" class=\"data row14 col6\" >0.5</td>\n",
       "                        <td id=\"T_d1c2690c_fdcd_11e9_afd5_f48e38d38e7erow14_col7\" class=\"data row14 col7\" >0.55</td>\n",
       "                        <td id=\"T_d1c2690c_fdcd_11e9_afd5_f48e38d38e7erow14_col8\" class=\"data row14 col8\" >0.62</td>\n",
       "                        <td id=\"T_d1c2690c_fdcd_11e9_afd5_f48e38d38e7erow14_col9\" class=\"data row14 col9\" >0.71</td>\n",
       "                        <td id=\"T_d1c2690c_fdcd_11e9_afd5_f48e38d38e7erow14_col10\" class=\"data row14 col10\" >0.39</td>\n",
       "                        <td id=\"T_d1c2690c_fdcd_11e9_afd5_f48e38d38e7erow14_col11\" class=\"data row14 col11\" >0.6</td>\n",
       "                        <td id=\"T_d1c2690c_fdcd_11e9_afd5_f48e38d38e7erow14_col12\" class=\"data row14 col12\" >0.69</td>\n",
       "                        <td id=\"T_d1c2690c_fdcd_11e9_afd5_f48e38d38e7erow14_col13\" class=\"data row14 col13\" >0.81</td>\n",
       "                        <td id=\"T_d1c2690c_fdcd_11e9_afd5_f48e38d38e7erow14_col14\" class=\"data row14 col14\" >1</td>\n",
       "            </tr>\n",
       "    </tbody></table>"
      ],
      "text/plain": [
       "<pandas.io.formats.style.Styler at 0x21fcb6bc358>"
      ]
     },
     "execution_count": 86,
     "metadata": {},
     "output_type": "execute_result"
    }
   ],
   "source": [
    "corr = train.iloc[:,11:-1].corr()\n",
    "corr.style.background_gradient(cmap='coolwarm').set_precision(2)"
   ]
  },
  {
   "cell_type": "markdown",
   "metadata": {},
   "source": [
    "### Visualize the intersections on Map"
   ]
  },
  {
   "cell_type": "code",
   "execution_count": 35,
   "metadata": {},
   "outputs": [],
   "source": [
    "#geometry = [Point(xy) for xy in zip(train.Longitude, train.Latitude)]\n",
    "#gdf = GeoDataFrame(df, geometry=geometry) "
   ]
  }
 ],
 "metadata": {
  "kernelspec": {
   "display_name": "Python 3",
   "language": "python",
   "name": "python3"
  },
  "language_info": {
   "codemirror_mode": {
    "name": "ipython",
    "version": 3
   },
   "file_extension": ".py",
   "mimetype": "text/x-python",
   "name": "python",
   "nbconvert_exporter": "python",
   "pygments_lexer": "ipython3",
   "version": "3.7.3"
  }
 },
 "nbformat": 4,
 "nbformat_minor": 2
}
